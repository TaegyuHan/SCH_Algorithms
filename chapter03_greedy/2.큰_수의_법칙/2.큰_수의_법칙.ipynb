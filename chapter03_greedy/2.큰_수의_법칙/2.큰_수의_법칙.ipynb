{
 "cells": [
  {
   "cell_type": "markdown",
   "source": [
    "# 큰 수의 법칙\n",
    "\n",
    "\"큰 수의 법칙\"은 일반적으로 통계 분야에서 다루어지는 내용이지만 동빈이는 본인만의 방식으로 다르게 사용하고 있다. 동빈이의 큰 수의 법칙은 다양한 수로 이루어진 배열이 있을 때 주어진 수들을 M번 더하여 가장 큰 수를 만드는 법칙이다. 단, 배열의 특정한 인덱스(번호)에 해당하는 수가 연속해서 K번을 초과하여 더해질 수 없는 것이 이 특징이다."
   ],
   "metadata": {
    "collapsed": false,
    "pycharm": {
     "name": "#%% md\n"
    }
   }
  },
  {
   "cell_type": "markdown",
   "source": [
    "### input\n",
    "\n",
    "- 첫쩨 줄에 아래의 자연수가 주어지며, 각 자연수는 공백으로 구분한다.\n",
    "    - N (2 <= N <= 1_000)\n",
    "    - M (1 <= M <= 10_000)\n",
    "    - K (1 <= K <= 10_000)\n",
    "\n",
    "- 둘째 줄에 N개의 자연수가 주어진다. 각 자연수는 공백으로 구분한다. 단 각각의 자연수는 1 이상 10_000 이하의 수로 주어진다.\n",
    "    - 리스트 자연수 1이상 10_000 이하\n",
    "\n",
    "- 입력으로 주어지는 K는 항상 M 보다 작거나 같다.\n",
    "    - K <= M\n",
    "\n",
    "### output\n",
    "- 첫재 줄에 동빈이의 큰 수의 법칙에 따라 더해진 답을 출력한다."
   ],
   "metadata": {
    "collapsed": false,
    "pycharm": {
     "name": "#%% md\n"
    }
   }
  },
  {
   "cell_type": "code",
   "execution_count": 1,
   "outputs": [
    {
     "name": "stdout",
     "output_type": "stream",
     "text": [
      "Test case creation complete!\n",
      "Test case creation complete!\n",
      "Test case creation complete!\n",
      "Test case creation complete!\n",
      "Test case creation complete!\n",
      "Test case creation complete!\n",
      "Test case creation complete!\n",
      "Test case creation complete!\n",
      "Test case creation complete!\n",
      "Test case creation complete!\n"
     ]
    }
   ],
   "source": [
    "from time import sleep\n",
    "import random\n",
    "from datetime import datetime\n",
    "\n",
    "\n",
    "def make_test_case() -> str:\n",
    "    \"\"\" 테스트 케이스 생성기 \"\"\"\n",
    "    MIN_N, MAX_N = 2, 1_000\n",
    "    MIN_M, MAX_M = 1, 10_000\n",
    "    MIN_K, MAX_K = 1, 10_000\n",
    "    NATURAL_MIN, NATURAL_MAX = 1, 10_000\n",
    "\n",
    "    N = random.randrange(MIN_N, MAX_N + 1)\n",
    "    M = random.randrange(MIN_M, MAX_N + 1)\n",
    "    K = random.randrange(M, MAX_K + 1)\n",
    "\n",
    "    text = (\n",
    "        f\"{' '.join(map(str, [N, M, K]))}\\n\"\n",
    "        f\"{' '.join([str(random.randrange(NATURAL_MIN, NATURAL_MAX + 1)) for _ in range(N)])}\"\n",
    "    )\n",
    "\n",
    "    now = datetime.now().strftime(\"%Y-%m-%d_%H-%M-%S\")\n",
    "\n",
    "    with open(file=f\"./test/{now}.txt\", mode='w', encoding=\"utf-8\") as f:\n",
    "        f.write(text)\n",
    "\n",
    "    print(\"Test case creation complete!\")\n",
    "\n",
    "\n",
    "for _ in range(10):\n",
    "    make_test_case()\n",
    "    sleep(1)"
   ],
   "metadata": {
    "collapsed": false,
    "pycharm": {
     "name": "#%%\n"
    }
   }
  },
  {
   "cell_type": "markdown",
   "source": [
    "## 단순하게 푸는 답안 예시"
   ],
   "metadata": {
    "collapsed": false,
    "pycharm": {
     "name": "#%% md\n"
    }
   }
  },
  {
   "cell_type": "code",
   "execution_count": 5,
   "outputs": [],
   "source": [
    "import _io\n",
    "from algorithm_util import time_check\n",
    "\n",
    "\n",
    "@time_check\n",
    "def solution_0(test: _io.TextIOWrapper) -> int:\n",
    "    \"\"\" 단순하게 푸는 답안 예시 \"\"\"\n",
    "    n, m, k = map(int, test.readline().split())  # O(3)\n",
    "    data = list(map(int, test.readline().split()))  # O(N)\n",
    "    data.sort()  # O(nlogn)\n",
    "\n",
    "    first = data[-1]  # O(1)\n",
    "    second = data[-2]  # O(1)\n",
    "    result = 0  # O(1)\n",
    "\n",
    "    while True:  # O(M)\n",
    "        for i in range(k):  # O(K)\n",
    "            if m == 0:  # O(2)\n",
    "                break\n",
    "            result += first  # O(1)\n",
    "            m -= 1  # O(2)\n",
    "\n",
    "        if m == 0:  # O(2)\n",
    "            break\n",
    "\n",
    "        result += second  # O(1)\n",
    "        m -= 1  # O(2)\n",
    "\n",
    "    return result\n",
    "\n",
    "\n",
    "@time_check\n",
    "def answer(test: _io.TextIOWrapper) -> int:\n",
    "    \"\"\" 단순하게 푸는 답안 예시\n",
    "\n",
    "        시간 복잡도 :\n",
    "            (M * K) + NlogN + N + 6\n",
    "    \"\"\"\n",
    "    n, m, k = map(int, test.readline().split())  # O(3)\n",
    "    data = list(map(int, test.readline().split()))  # O(N)\n",
    "    data.sort()  # O(nlogn)\n",
    "\n",
    "    first = data[-1]  # O(1)\n",
    "    second = data[-2]  # O(1)\n",
    "\n",
    "    # 최대 묶음의 개수의 가장 큰 값의 개수\n",
    "    count = int(m / (k + 1)) * k  # O(6)\n",
    "    # 나머지 묶음에서의 가장 큰 값의 개수\n",
    "    count += m % (k + 1)  # O(4)\n",
    "\n",
    "    result = 0  # O(1)\n",
    "    result += count * first  # O(2)\n",
    "    result += (m - count) * second  # O(4)\n",
    "\n",
    "    return result"
   ],
   "metadata": {
    "collapsed": false,
    "pycharm": {
     "name": "#%%\n"
    }
   }
  },
  {
   "cell_type": "markdown",
   "source": [
    "# 답안 예시"
   ],
   "metadata": {
    "collapsed": false,
    "pycharm": {
     "name": "#%% md\n"
    }
   }
  },
  {
   "cell_type": "code",
   "execution_count": 6,
   "outputs": [
    {
     "data": {
      "text/plain": "   solution_n      time   result                test_file_path\n0     ansmwer  0.000997  2528229  test\\2022-09-11_12-50-39.txt\n1           1  0.000997  2528229  test\\2022-09-11_12-50-39.txt\n2     ansmwer  0.000998  3129061  test\\2022-09-11_12-52-19.txt\n3           1  0.000997  3129061  test\\2022-09-11_12-52-19.txt\n4     ansmwer  0.000000   544544  test\\2022-09-11_13-53-25.txt\n5           1  0.000000   544544  test\\2022-09-11_13-53-25.txt\n6     ansmwer  0.000998  7045065  test\\2022-09-11_14-42-36.txt\n7           1  0.000997  7045065  test\\2022-09-11_14-42-36.txt\n8     ansmwer  0.000000  6760522  test\\2022-09-11_14-42-49.txt\n9           1  0.000997  6760522  test\\2022-09-11_14-42-49.txt\n10    ansmwer  0.000000  4536822  test\\2022-09-11_14-42-50.txt\n11          1  0.000998  4536822  test\\2022-09-11_14-42-50.txt\n12    ansmwer  0.000000  5293400  test\\2022-09-11_14-42-52.txt\n13          1  0.000000  5293400  test\\2022-09-11_14-42-52.txt\n14    ansmwer  0.000000  6575502  test\\2022-09-11_14-42-53.txt\n15          1  0.000000  6575502  test\\2022-09-11_14-42-53.txt\n16    ansmwer  0.000998  1254078  test\\2022-09-11_14-42-54.txt\n17          1  0.000000  1254078  test\\2022-09-11_14-42-54.txt\n18    ansmwer  0.000997   189848  test\\2022-09-11_14-42-55.txt\n19          1  0.000000   189848  test\\2022-09-11_14-42-55.txt\n20    ansmwer  0.000997  6828634  test\\2022-09-11_14-42-56.txt\n21          1  0.000999  6828634  test\\2022-09-11_14-42-56.txt\n22    ansmwer  0.000000  2827504  test\\2022-09-11_14-42-57.txt\n23          1  0.000000  2827504  test\\2022-09-11_14-42-57.txt\n24    ansmwer  0.000999  8877554  test\\2022-09-11_14-42-58.txt\n25          1  0.001001  8877554  test\\2022-09-11_14-42-58.txt\n26    ansmwer  0.000000  9115440  test\\2022-09-11_14-42-59.txt\n27          1  0.000000  9115440  test\\2022-09-11_14-42-59.txt\n28    ansmwer  0.000000  6940000  test\\2022-09-11_14-54-27.txt\n29          1  0.000997  6940000  test\\2022-09-11_14-54-27.txt\n30    ansmwer  0.000997  2215782  test\\2022-09-11_14-54-28.txt\n31          1  0.000000  2215782  test\\2022-09-11_14-54-28.txt\n32    ansmwer  0.000000   935676  test\\2022-09-11_14-54-29.txt\n33          1  0.000000   935676  test\\2022-09-11_14-54-29.txt\n34    ansmwer  0.000998  1037712  test\\2022-09-11_14-54-30.txt\n35          1  0.000000  1037712  test\\2022-09-11_14-54-30.txt\n36    ansmwer  0.000995  2530000  test\\2022-09-11_14-54-31.txt\n37          1  0.000000  2530000  test\\2022-09-11_14-54-31.txt\n38    ansmwer  0.000998    29688  test\\2022-09-11_14-54-32.txt\n39          1  0.000000    29688  test\\2022-09-11_14-54-32.txt\n40    ansmwer  0.000000  5986406  test\\2022-09-11_14-54-34.txt\n41          1  0.000996  5986406  test\\2022-09-11_14-54-34.txt\n42    ansmwer  0.000000  8614828  test\\2022-09-11_14-54-35.txt\n43          1  0.000999  8614828  test\\2022-09-11_14-54-35.txt\n44    ansmwer  0.000000  8279223  test\\2022-09-11_14-54-36.txt\n45          1  0.001002  8279223  test\\2022-09-11_14-54-36.txt\n46    ansmwer  0.000000  3028485  test\\2022-09-11_14-54-37.txt\n47          1  0.000000  3028485  test\\2022-09-11_14-54-37.txt\n48    ansmwer  0.000000       46             test\\original.txt\n49          1  0.000000       46             test\\original.txt",
      "text/html": "<div>\n<style scoped>\n    .dataframe tbody tr th:only-of-type {\n        vertical-align: middle;\n    }\n\n    .dataframe tbody tr th {\n        vertical-align: top;\n    }\n\n    .dataframe thead th {\n        text-align: right;\n    }\n</style>\n<table border=\"1\" class=\"dataframe\">\n  <thead>\n    <tr style=\"text-align: right;\">\n      <th></th>\n      <th>solution_n</th>\n      <th>time</th>\n      <th>result</th>\n      <th>test_file_path</th>\n    </tr>\n  </thead>\n  <tbody>\n    <tr>\n      <th>0</th>\n      <td>ansmwer</td>\n      <td>0.000997</td>\n      <td>2528229</td>\n      <td>test\\2022-09-11_12-50-39.txt</td>\n    </tr>\n    <tr>\n      <th>1</th>\n      <td>1</td>\n      <td>0.000997</td>\n      <td>2528229</td>\n      <td>test\\2022-09-11_12-50-39.txt</td>\n    </tr>\n    <tr>\n      <th>2</th>\n      <td>ansmwer</td>\n      <td>0.000998</td>\n      <td>3129061</td>\n      <td>test\\2022-09-11_12-52-19.txt</td>\n    </tr>\n    <tr>\n      <th>3</th>\n      <td>1</td>\n      <td>0.000997</td>\n      <td>3129061</td>\n      <td>test\\2022-09-11_12-52-19.txt</td>\n    </tr>\n    <tr>\n      <th>4</th>\n      <td>ansmwer</td>\n      <td>0.000000</td>\n      <td>544544</td>\n      <td>test\\2022-09-11_13-53-25.txt</td>\n    </tr>\n    <tr>\n      <th>5</th>\n      <td>1</td>\n      <td>0.000000</td>\n      <td>544544</td>\n      <td>test\\2022-09-11_13-53-25.txt</td>\n    </tr>\n    <tr>\n      <th>6</th>\n      <td>ansmwer</td>\n      <td>0.000998</td>\n      <td>7045065</td>\n      <td>test\\2022-09-11_14-42-36.txt</td>\n    </tr>\n    <tr>\n      <th>7</th>\n      <td>1</td>\n      <td>0.000997</td>\n      <td>7045065</td>\n      <td>test\\2022-09-11_14-42-36.txt</td>\n    </tr>\n    <tr>\n      <th>8</th>\n      <td>ansmwer</td>\n      <td>0.000000</td>\n      <td>6760522</td>\n      <td>test\\2022-09-11_14-42-49.txt</td>\n    </tr>\n    <tr>\n      <th>9</th>\n      <td>1</td>\n      <td>0.000997</td>\n      <td>6760522</td>\n      <td>test\\2022-09-11_14-42-49.txt</td>\n    </tr>\n    <tr>\n      <th>10</th>\n      <td>ansmwer</td>\n      <td>0.000000</td>\n      <td>4536822</td>\n      <td>test\\2022-09-11_14-42-50.txt</td>\n    </tr>\n    <tr>\n      <th>11</th>\n      <td>1</td>\n      <td>0.000998</td>\n      <td>4536822</td>\n      <td>test\\2022-09-11_14-42-50.txt</td>\n    </tr>\n    <tr>\n      <th>12</th>\n      <td>ansmwer</td>\n      <td>0.000000</td>\n      <td>5293400</td>\n      <td>test\\2022-09-11_14-42-52.txt</td>\n    </tr>\n    <tr>\n      <th>13</th>\n      <td>1</td>\n      <td>0.000000</td>\n      <td>5293400</td>\n      <td>test\\2022-09-11_14-42-52.txt</td>\n    </tr>\n    <tr>\n      <th>14</th>\n      <td>ansmwer</td>\n      <td>0.000000</td>\n      <td>6575502</td>\n      <td>test\\2022-09-11_14-42-53.txt</td>\n    </tr>\n    <tr>\n      <th>15</th>\n      <td>1</td>\n      <td>0.000000</td>\n      <td>6575502</td>\n      <td>test\\2022-09-11_14-42-53.txt</td>\n    </tr>\n    <tr>\n      <th>16</th>\n      <td>ansmwer</td>\n      <td>0.000998</td>\n      <td>1254078</td>\n      <td>test\\2022-09-11_14-42-54.txt</td>\n    </tr>\n    <tr>\n      <th>17</th>\n      <td>1</td>\n      <td>0.000000</td>\n      <td>1254078</td>\n      <td>test\\2022-09-11_14-42-54.txt</td>\n    </tr>\n    <tr>\n      <th>18</th>\n      <td>ansmwer</td>\n      <td>0.000997</td>\n      <td>189848</td>\n      <td>test\\2022-09-11_14-42-55.txt</td>\n    </tr>\n    <tr>\n      <th>19</th>\n      <td>1</td>\n      <td>0.000000</td>\n      <td>189848</td>\n      <td>test\\2022-09-11_14-42-55.txt</td>\n    </tr>\n    <tr>\n      <th>20</th>\n      <td>ansmwer</td>\n      <td>0.000997</td>\n      <td>6828634</td>\n      <td>test\\2022-09-11_14-42-56.txt</td>\n    </tr>\n    <tr>\n      <th>21</th>\n      <td>1</td>\n      <td>0.000999</td>\n      <td>6828634</td>\n      <td>test\\2022-09-11_14-42-56.txt</td>\n    </tr>\n    <tr>\n      <th>22</th>\n      <td>ansmwer</td>\n      <td>0.000000</td>\n      <td>2827504</td>\n      <td>test\\2022-09-11_14-42-57.txt</td>\n    </tr>\n    <tr>\n      <th>23</th>\n      <td>1</td>\n      <td>0.000000</td>\n      <td>2827504</td>\n      <td>test\\2022-09-11_14-42-57.txt</td>\n    </tr>\n    <tr>\n      <th>24</th>\n      <td>ansmwer</td>\n      <td>0.000999</td>\n      <td>8877554</td>\n      <td>test\\2022-09-11_14-42-58.txt</td>\n    </tr>\n    <tr>\n      <th>25</th>\n      <td>1</td>\n      <td>0.001001</td>\n      <td>8877554</td>\n      <td>test\\2022-09-11_14-42-58.txt</td>\n    </tr>\n    <tr>\n      <th>26</th>\n      <td>ansmwer</td>\n      <td>0.000000</td>\n      <td>9115440</td>\n      <td>test\\2022-09-11_14-42-59.txt</td>\n    </tr>\n    <tr>\n      <th>27</th>\n      <td>1</td>\n      <td>0.000000</td>\n      <td>9115440</td>\n      <td>test\\2022-09-11_14-42-59.txt</td>\n    </tr>\n    <tr>\n      <th>28</th>\n      <td>ansmwer</td>\n      <td>0.000000</td>\n      <td>6940000</td>\n      <td>test\\2022-09-11_14-54-27.txt</td>\n    </tr>\n    <tr>\n      <th>29</th>\n      <td>1</td>\n      <td>0.000997</td>\n      <td>6940000</td>\n      <td>test\\2022-09-11_14-54-27.txt</td>\n    </tr>\n    <tr>\n      <th>30</th>\n      <td>ansmwer</td>\n      <td>0.000997</td>\n      <td>2215782</td>\n      <td>test\\2022-09-11_14-54-28.txt</td>\n    </tr>\n    <tr>\n      <th>31</th>\n      <td>1</td>\n      <td>0.000000</td>\n      <td>2215782</td>\n      <td>test\\2022-09-11_14-54-28.txt</td>\n    </tr>\n    <tr>\n      <th>32</th>\n      <td>ansmwer</td>\n      <td>0.000000</td>\n      <td>935676</td>\n      <td>test\\2022-09-11_14-54-29.txt</td>\n    </tr>\n    <tr>\n      <th>33</th>\n      <td>1</td>\n      <td>0.000000</td>\n      <td>935676</td>\n      <td>test\\2022-09-11_14-54-29.txt</td>\n    </tr>\n    <tr>\n      <th>34</th>\n      <td>ansmwer</td>\n      <td>0.000998</td>\n      <td>1037712</td>\n      <td>test\\2022-09-11_14-54-30.txt</td>\n    </tr>\n    <tr>\n      <th>35</th>\n      <td>1</td>\n      <td>0.000000</td>\n      <td>1037712</td>\n      <td>test\\2022-09-11_14-54-30.txt</td>\n    </tr>\n    <tr>\n      <th>36</th>\n      <td>ansmwer</td>\n      <td>0.000995</td>\n      <td>2530000</td>\n      <td>test\\2022-09-11_14-54-31.txt</td>\n    </tr>\n    <tr>\n      <th>37</th>\n      <td>1</td>\n      <td>0.000000</td>\n      <td>2530000</td>\n      <td>test\\2022-09-11_14-54-31.txt</td>\n    </tr>\n    <tr>\n      <th>38</th>\n      <td>ansmwer</td>\n      <td>0.000998</td>\n      <td>29688</td>\n      <td>test\\2022-09-11_14-54-32.txt</td>\n    </tr>\n    <tr>\n      <th>39</th>\n      <td>1</td>\n      <td>0.000000</td>\n      <td>29688</td>\n      <td>test\\2022-09-11_14-54-32.txt</td>\n    </tr>\n    <tr>\n      <th>40</th>\n      <td>ansmwer</td>\n      <td>0.000000</td>\n      <td>5986406</td>\n      <td>test\\2022-09-11_14-54-34.txt</td>\n    </tr>\n    <tr>\n      <th>41</th>\n      <td>1</td>\n      <td>0.000996</td>\n      <td>5986406</td>\n      <td>test\\2022-09-11_14-54-34.txt</td>\n    </tr>\n    <tr>\n      <th>42</th>\n      <td>ansmwer</td>\n      <td>0.000000</td>\n      <td>8614828</td>\n      <td>test\\2022-09-11_14-54-35.txt</td>\n    </tr>\n    <tr>\n      <th>43</th>\n      <td>1</td>\n      <td>0.000999</td>\n      <td>8614828</td>\n      <td>test\\2022-09-11_14-54-35.txt</td>\n    </tr>\n    <tr>\n      <th>44</th>\n      <td>ansmwer</td>\n      <td>0.000000</td>\n      <td>8279223</td>\n      <td>test\\2022-09-11_14-54-36.txt</td>\n    </tr>\n    <tr>\n      <th>45</th>\n      <td>1</td>\n      <td>0.001002</td>\n      <td>8279223</td>\n      <td>test\\2022-09-11_14-54-36.txt</td>\n    </tr>\n    <tr>\n      <th>46</th>\n      <td>ansmwer</td>\n      <td>0.000000</td>\n      <td>3028485</td>\n      <td>test\\2022-09-11_14-54-37.txt</td>\n    </tr>\n    <tr>\n      <th>47</th>\n      <td>1</td>\n      <td>0.000000</td>\n      <td>3028485</td>\n      <td>test\\2022-09-11_14-54-37.txt</td>\n    </tr>\n    <tr>\n      <th>48</th>\n      <td>ansmwer</td>\n      <td>0.000000</td>\n      <td>46</td>\n      <td>test\\original.txt</td>\n    </tr>\n    <tr>\n      <th>49</th>\n      <td>1</td>\n      <td>0.000000</td>\n      <td>46</td>\n      <td>test\\original.txt</td>\n    </tr>\n  </tbody>\n</table>\n</div>"
     },
     "execution_count": 6,
     "metadata": {},
     "output_type": "execute_result"
    }
   ],
   "source": [
    "from algorithm_util import result_df\n",
    "\n",
    "solutions = [\n",
    "    answer,\n",
    "    solution_0,\n",
    "]\n",
    "\n",
    "result_df(solutions)"
   ],
   "metadata": {
    "collapsed": false,
    "pycharm": {
     "name": "#%%\n"
    }
   }
  },
  {
   "cell_type": "code",
   "execution_count": null,
   "outputs": [],
   "source": [],
   "metadata": {
    "collapsed": false,
    "pycharm": {
     "name": "#%%\n"
    }
   }
  }
 ],
 "metadata": {
  "kernelspec": {
   "display_name": "Python 3",
   "language": "python",
   "name": "python3"
  },
  "language_info": {
   "codemirror_mode": {
    "name": "ipython",
    "version": 2
   },
   "file_extension": ".py",
   "mimetype": "text/x-python",
   "name": "python",
   "nbconvert_exporter": "python",
   "pygments_lexer": "ipython2",
   "version": "2.7.6"
  }
 },
 "nbformat": 4,
 "nbformat_minor": 0
}