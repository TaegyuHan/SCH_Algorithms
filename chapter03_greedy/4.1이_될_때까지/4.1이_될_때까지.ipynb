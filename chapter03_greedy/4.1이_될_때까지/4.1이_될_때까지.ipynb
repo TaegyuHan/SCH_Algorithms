{
 "cells": [
  {
   "cell_type": "markdown",
   "source": [
    "# 1이 될 때까지\n",
    "\n",
    "어떠한 수 N이 1이 될 때까지 다음의 두 과정 중 하나를 반복적으로 선택하여 수행하려고 한다. 단, 두번째 연산은 N이 K로 나누어떨어질 때만 선택할 수 있다.\n",
    "\n",
    "1. N에서 1을 뺀다.\n",
    "2. N을 K로 나눈다."
   ],
   "metadata": {
    "collapsed": false,
    "pycharm": {
     "name": "#%% md\n"
    }
   }
  },
  {
   "cell_type": "markdown",
   "source": [
    "### input\n",
    "\n",
    "- 첫째 줄에 N(2 <= N <= 100_000)과 K(2 <= K <= 100_000)가 공백으로 구분되며 각각 자연수로 주어진다. 이때 입력으로 주어지는 N은 항상 K보다 크거나 같다.\n",
    "  - N(2 <= N <= 100_000)\n",
    "  - K(2 <= K <= 100_000)\n",
    "  - K <= N\n",
    "\n",
    "### output\n",
    "- 첫째 줄에 N이 1일 될 때까지 1번 혹인 2번의 과정을 수행해야 하는 횟수의 최솟값을 출력한다."
   ],
   "metadata": {
    "collapsed": false,
    "pycharm": {
     "name": "#%% md\n"
    }
   }
  },
  {
   "cell_type": "code",
   "execution_count": 4,
   "outputs": [
    {
     "name": "stdout",
     "output_type": "stream",
     "text": [
      "Test case creation complete!\n",
      "Test case creation complete!\n",
      "Test case creation complete!\n",
      "Test case creation complete!\n",
      "Test case creation complete!\n",
      "Test case creation complete!\n",
      "Test case creation complete!\n",
      "Test case creation complete!\n",
      "Test case creation complete!\n",
      "Test case creation complete!\n"
     ]
    }
   ],
   "source": [
    "from time import sleep\n",
    "import random\n",
    "from datetime import datetime\n",
    "\n",
    "\n",
    "def make_test_case() -> str:\n",
    "    \"\"\" 테스트 케이스 생성기 \"\"\"\n",
    "    MIN_N, MAX_N = 1, 100_000\n",
    "    MIN_K, MAX_K = 1, 100_000\n",
    "\n",
    "    K = random.randrange(MIN_K, MAX_K + 1)\n",
    "    N = random.randrange(K, MAX_N + 1)\n",
    "\n",
    "    text = (\n",
    "        f\"{' '.join(map(str, [N, K]))}\\n\"\n",
    "    )\n",
    "\n",
    "    now = datetime.now().strftime(\"%Y-%m-%d_%H-%M-%S\")\n",
    "\n",
    "    with open(file=f\"./test/{now}.txt\", mode='w', encoding=\"utf-8\") as f:\n",
    "        f.write(text)\n",
    "\n",
    "    print(\"Test case creation complete!\")\n",
    "\n",
    "\n",
    "for _ in range(10):\n",
    "    make_test_case()\n",
    "    sleep(1)"
   ],
   "metadata": {
    "collapsed": false,
    "pycharm": {
     "name": "#%%\n"
    }
   }
  },
  {
   "cell_type": "code",
   "execution_count": 15,
   "outputs": [],
   "source": [
    "from algorithm_util import time_check\n",
    "import _io\n",
    "\n",
    "\n",
    "@time_check\n",
    "def answer_0(test: _io.TextIOWrapper) -> int:\n",
    "    \"\"\" 3-6.py 답안 예시 \"\"\"\n",
    "    n, k = map(int, test.readline().split())\n",
    "    result = 0\n",
    "\n",
    "    while True:\n",
    "        target = (n // k) * k\n",
    "        result += (n - target)\n",
    "        n = target\n",
    "\n",
    "        if n < k: break\n",
    "\n",
    "        result += 1\n",
    "        n //= k\n",
    "    result += (n - 1)\n",
    "\n",
    "    return result\n",
    "\n",
    "\n",
    "@time_check\n",
    "def answer_1(test: _io.TextIOWrapper) -> int:\n",
    "    \"\"\" 3-5.py 단순하게 푸는 답안 예시 \"\"\"\n",
    "    n, k = map(int, test.readline().split())\n",
    "    result = 0\n",
    "\n",
    "    # N이 K이상이면 K로 계속 나누기\n",
    "    while n >= k:\n",
    "        # N이 K로 나누어 떨어지지 않는다면 N에서 1씩 빼기\n",
    "        while n % k != 0:\n",
    "            n -= 1\n",
    "            result += 1\n",
    "        # K로 나누기\n",
    "        n //= k\n",
    "        result += 1\n",
    "\n",
    "    # 마지막으로 낭은 수에 대하여 1씩 빼기\n",
    "    while n > 1:\n",
    "        n -= 1\n",
    "        result += 1\n",
    "\n",
    "    return result\n",
    "\n",
    "\n",
    "@time_check\n",
    "def solution_0(test: _io.TextIOWrapper) -> int:\n",
    "    \"\"\" 문제 풀이 \"\"\"\n",
    "    N, K = map(int, test.readline().split())\n",
    "\n",
    "    count = 0\n",
    "    while N != 1:\n",
    "        # K 로 나눠지는 경우\n",
    "        if N % K == 0:\n",
    "            N //= K\n",
    "            count += 1\n",
    "            continue\n",
    "\n",
    "        # 1로 빼는 경우\n",
    "        N -= 1\n",
    "        count += 1\n",
    "    return count\n"
   ],
   "metadata": {
    "collapsed": false,
    "pycharm": {
     "name": "#%%\n"
    }
   }
  },
  {
   "cell_type": "code",
   "execution_count": 17,
   "outputs": [
    {
     "data": {
      "text/plain": "   solution_n      time  result                test_file_path\n0     ansmwer  0.000000   14991  test\\2022-09-11_16-11-12.txt\n1           1  0.005980   14991  test\\2022-09-11_16-11-12.txt\n2           2  0.006982   14991  test\\2022-09-11_16-11-12.txt\n3     ansmwer  0.000000    1006  test\\2022-09-11_16-11-13.txt\n4           1  0.000000    1006  test\\2022-09-11_16-11-13.txt\n5           2  0.000998    1006  test\\2022-09-11_16-11-13.txt\n6     ansmwer  0.000000    9379  test\\2022-09-11_16-11-14.txt\n7           1  0.002995    9379  test\\2022-09-11_16-11-14.txt\n8           2  0.002993    9379  test\\2022-09-11_16-11-14.txt\n9     ansmwer  0.000000   10409  test\\2022-09-11_16-11-15.txt\n10          1  0.003989   10409  test\\2022-09-11_16-11-15.txt\n11          2  0.003992   10409  test\\2022-09-11_16-11-15.txt\n12    ansmwer  0.000000   13710  test\\2022-09-11_16-11-16.txt\n13          1  0.003990   13710  test\\2022-09-11_16-11-16.txt\n14          2  0.004981   13710  test\\2022-09-11_16-11-16.txt\n15    ansmwer  0.000000     751  test\\2022-09-11_16-11-17.txt\n16          1  0.000000     751  test\\2022-09-11_16-11-17.txt\n17          2  0.000000     751  test\\2022-09-11_16-11-17.txt\n18    ansmwer  0.000000    2565  test\\2022-09-11_16-11-18.txt\n19          1  0.000998    2565  test\\2022-09-11_16-11-18.txt\n20          2  0.000997    2565  test\\2022-09-11_16-11-18.txt\n21    ansmwer  0.000000    2957  test\\2022-09-11_16-11-19.txt\n22          1  0.000995    2957  test\\2022-09-11_16-11-19.txt\n23          2  0.000998    2957  test\\2022-09-11_16-11-19.txt\n24    ansmwer  0.000000    7621  test\\2022-09-11_16-11-20.txt\n25          1  0.001994    7621  test\\2022-09-11_16-11-20.txt\n26          2  0.003991    7621  test\\2022-09-11_16-11-20.txt\n27    ansmwer  0.000000   25956  test\\2022-09-11_16-11-21.txt\n28          1  0.020943   25956  test\\2022-09-11_16-11-21.txt\n29          2  0.011967   25956  test\\2022-09-11_16-11-21.txt\n30    ansmwer  0.000997       2             test\\original.txt\n31          1  0.000000       2             test\\original.txt\n32          2  0.000000       2             test\\original.txt",
      "text/html": "<div>\n<style scoped>\n    .dataframe tbody tr th:only-of-type {\n        vertical-align: middle;\n    }\n\n    .dataframe tbody tr th {\n        vertical-align: top;\n    }\n\n    .dataframe thead th {\n        text-align: right;\n    }\n</style>\n<table border=\"1\" class=\"dataframe\">\n  <thead>\n    <tr style=\"text-align: right;\">\n      <th></th>\n      <th>solution_n</th>\n      <th>time</th>\n      <th>result</th>\n      <th>test_file_path</th>\n    </tr>\n  </thead>\n  <tbody>\n    <tr>\n      <th>0</th>\n      <td>ansmwer</td>\n      <td>0.000000</td>\n      <td>14991</td>\n      <td>test\\2022-09-11_16-11-12.txt</td>\n    </tr>\n    <tr>\n      <th>1</th>\n      <td>1</td>\n      <td>0.005980</td>\n      <td>14991</td>\n      <td>test\\2022-09-11_16-11-12.txt</td>\n    </tr>\n    <tr>\n      <th>2</th>\n      <td>2</td>\n      <td>0.006982</td>\n      <td>14991</td>\n      <td>test\\2022-09-11_16-11-12.txt</td>\n    </tr>\n    <tr>\n      <th>3</th>\n      <td>ansmwer</td>\n      <td>0.000000</td>\n      <td>1006</td>\n      <td>test\\2022-09-11_16-11-13.txt</td>\n    </tr>\n    <tr>\n      <th>4</th>\n      <td>1</td>\n      <td>0.000000</td>\n      <td>1006</td>\n      <td>test\\2022-09-11_16-11-13.txt</td>\n    </tr>\n    <tr>\n      <th>5</th>\n      <td>2</td>\n      <td>0.000998</td>\n      <td>1006</td>\n      <td>test\\2022-09-11_16-11-13.txt</td>\n    </tr>\n    <tr>\n      <th>6</th>\n      <td>ansmwer</td>\n      <td>0.000000</td>\n      <td>9379</td>\n      <td>test\\2022-09-11_16-11-14.txt</td>\n    </tr>\n    <tr>\n      <th>7</th>\n      <td>1</td>\n      <td>0.002995</td>\n      <td>9379</td>\n      <td>test\\2022-09-11_16-11-14.txt</td>\n    </tr>\n    <tr>\n      <th>8</th>\n      <td>2</td>\n      <td>0.002993</td>\n      <td>9379</td>\n      <td>test\\2022-09-11_16-11-14.txt</td>\n    </tr>\n    <tr>\n      <th>9</th>\n      <td>ansmwer</td>\n      <td>0.000000</td>\n      <td>10409</td>\n      <td>test\\2022-09-11_16-11-15.txt</td>\n    </tr>\n    <tr>\n      <th>10</th>\n      <td>1</td>\n      <td>0.003989</td>\n      <td>10409</td>\n      <td>test\\2022-09-11_16-11-15.txt</td>\n    </tr>\n    <tr>\n      <th>11</th>\n      <td>2</td>\n      <td>0.003992</td>\n      <td>10409</td>\n      <td>test\\2022-09-11_16-11-15.txt</td>\n    </tr>\n    <tr>\n      <th>12</th>\n      <td>ansmwer</td>\n      <td>0.000000</td>\n      <td>13710</td>\n      <td>test\\2022-09-11_16-11-16.txt</td>\n    </tr>\n    <tr>\n      <th>13</th>\n      <td>1</td>\n      <td>0.003990</td>\n      <td>13710</td>\n      <td>test\\2022-09-11_16-11-16.txt</td>\n    </tr>\n    <tr>\n      <th>14</th>\n      <td>2</td>\n      <td>0.004981</td>\n      <td>13710</td>\n      <td>test\\2022-09-11_16-11-16.txt</td>\n    </tr>\n    <tr>\n      <th>15</th>\n      <td>ansmwer</td>\n      <td>0.000000</td>\n      <td>751</td>\n      <td>test\\2022-09-11_16-11-17.txt</td>\n    </tr>\n    <tr>\n      <th>16</th>\n      <td>1</td>\n      <td>0.000000</td>\n      <td>751</td>\n      <td>test\\2022-09-11_16-11-17.txt</td>\n    </tr>\n    <tr>\n      <th>17</th>\n      <td>2</td>\n      <td>0.000000</td>\n      <td>751</td>\n      <td>test\\2022-09-11_16-11-17.txt</td>\n    </tr>\n    <tr>\n      <th>18</th>\n      <td>ansmwer</td>\n      <td>0.000000</td>\n      <td>2565</td>\n      <td>test\\2022-09-11_16-11-18.txt</td>\n    </tr>\n    <tr>\n      <th>19</th>\n      <td>1</td>\n      <td>0.000998</td>\n      <td>2565</td>\n      <td>test\\2022-09-11_16-11-18.txt</td>\n    </tr>\n    <tr>\n      <th>20</th>\n      <td>2</td>\n      <td>0.000997</td>\n      <td>2565</td>\n      <td>test\\2022-09-11_16-11-18.txt</td>\n    </tr>\n    <tr>\n      <th>21</th>\n      <td>ansmwer</td>\n      <td>0.000000</td>\n      <td>2957</td>\n      <td>test\\2022-09-11_16-11-19.txt</td>\n    </tr>\n    <tr>\n      <th>22</th>\n      <td>1</td>\n      <td>0.000995</td>\n      <td>2957</td>\n      <td>test\\2022-09-11_16-11-19.txt</td>\n    </tr>\n    <tr>\n      <th>23</th>\n      <td>2</td>\n      <td>0.000998</td>\n      <td>2957</td>\n      <td>test\\2022-09-11_16-11-19.txt</td>\n    </tr>\n    <tr>\n      <th>24</th>\n      <td>ansmwer</td>\n      <td>0.000000</td>\n      <td>7621</td>\n      <td>test\\2022-09-11_16-11-20.txt</td>\n    </tr>\n    <tr>\n      <th>25</th>\n      <td>1</td>\n      <td>0.001994</td>\n      <td>7621</td>\n      <td>test\\2022-09-11_16-11-20.txt</td>\n    </tr>\n    <tr>\n      <th>26</th>\n      <td>2</td>\n      <td>0.003991</td>\n      <td>7621</td>\n      <td>test\\2022-09-11_16-11-20.txt</td>\n    </tr>\n    <tr>\n      <th>27</th>\n      <td>ansmwer</td>\n      <td>0.000000</td>\n      <td>25956</td>\n      <td>test\\2022-09-11_16-11-21.txt</td>\n    </tr>\n    <tr>\n      <th>28</th>\n      <td>1</td>\n      <td>0.020943</td>\n      <td>25956</td>\n      <td>test\\2022-09-11_16-11-21.txt</td>\n    </tr>\n    <tr>\n      <th>29</th>\n      <td>2</td>\n      <td>0.011967</td>\n      <td>25956</td>\n      <td>test\\2022-09-11_16-11-21.txt</td>\n    </tr>\n    <tr>\n      <th>30</th>\n      <td>ansmwer</td>\n      <td>0.000997</td>\n      <td>2</td>\n      <td>test\\original.txt</td>\n    </tr>\n    <tr>\n      <th>31</th>\n      <td>1</td>\n      <td>0.000000</td>\n      <td>2</td>\n      <td>test\\original.txt</td>\n    </tr>\n    <tr>\n      <th>32</th>\n      <td>2</td>\n      <td>0.000000</td>\n      <td>2</td>\n      <td>test\\original.txt</td>\n    </tr>\n  </tbody>\n</table>\n</div>"
     },
     "execution_count": 17,
     "metadata": {},
     "output_type": "execute_result"
    }
   ],
   "source": [
    "from algorithm_util import result_df\n",
    "\n",
    "solutions = [\n",
    "    answer_0,\n",
    "    answer_1,\n",
    "    solution_0,\n",
    "]\n",
    "\n",
    "result_df(solutions)"
   ],
   "metadata": {
    "collapsed": false,
    "pycharm": {
     "name": "#%%\n"
    }
   }
  },
  {
   "cell_type": "code",
   "execution_count": null,
   "outputs": [],
   "source": [],
   "metadata": {
    "collapsed": false,
    "pycharm": {
     "name": "#%%\n"
    }
   }
  }
 ],
 "metadata": {
  "kernelspec": {
   "display_name": "Python 3",
   "language": "python",
   "name": "python3"
  },
  "language_info": {
   "codemirror_mode": {
    "name": "ipython",
    "version": 2
   },
   "file_extension": ".py",
   "mimetype": "text/x-python",
   "name": "python",
   "nbconvert_exporter": "python",
   "pygments_lexer": "ipython2",
   "version": "2.7.6"
  }
 },
 "nbformat": 4,
 "nbformat_minor": 0
}