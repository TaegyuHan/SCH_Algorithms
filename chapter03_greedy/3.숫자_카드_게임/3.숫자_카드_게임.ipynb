{
 "cells": [
  {
   "cell_type": "markdown",
   "source": [
    "# 숫자 카드 게임\n",
    "\n",
    "숫자 카드 게임은 여러개의 숫자 카드 중에서 가장 높은 숫자가 쓰인 카드 한 장을 뽑는 게임이다. 단, 게임의 룰을 지키며 카드를 뽑아야 하고 룰은 다음과 같다.\n",
    "\n",
    "- 숫자가 쓰인 카드들이 N x M 형태로 놓여 있다. 이 때 N은 행의 개수를 의미하며, M은 열의 개수를 의미힌다.\n",
    "- 먼저 뽑고자 하는 카드가 포함되어 있는 행을 선택한다.\n",
    "- 그다음 선택된 행에 포함된 카드들 중 가장 숫자가 낮은 카드를 뽑아다 한다.\n",
    "- 따라서 처음에 카드를 골라낼 행을 선택할 때, 이후에 해당 행에서 가장 숫자가 낮은 카드를 뽑을 것을 고려하여 최종적으로 가장 높은 숫자의 카드를 뽑을 수 있도록 전략을 세워야 한다."
   ],
   "metadata": {
    "collapsed": false,
    "pycharm": {
     "name": "#%% md\n"
    }
   }
  },
  {
   "cell_type": "markdown",
   "source": [
    "### input\n",
    "\n",
    "- 첫째 줄에 숫자 카드들이 놓인 행의 개수 N과 열의 가수 M이 공백을 기준으로 하여 각각 자연수로 주어진다.\n",
    "    - (1 <= N, M <= 100)\n",
    "\n",
    "- 둘째 줄 부터 N개의 줄에 걸쳐 각 카드에 적힌 숫자가 주어진다. 각 숫자는 1이상 10_000 이하의 자연수 이다.\n",
    "\n",
    "### output\n",
    "- 첫째 줄에 게임의 룰에 맞게 선택한 카드에 적힌 숫자를 출력한다."
   ],
   "metadata": {
    "collapsed": false,
    "pycharm": {
     "name": "#%% md\n"
    }
   }
  },
  {
   "cell_type": "code",
   "execution_count": 14,
   "outputs": [
    {
     "name": "stdout",
     "output_type": "stream",
     "text": [
      "Test case creation complete!\n",
      "Test case creation complete!\n",
      "Test case creation complete!\n",
      "Test case creation complete!\n",
      "Test case creation complete!\n",
      "Test case creation complete!\n",
      "Test case creation complete!\n",
      "Test case creation complete!\n",
      "Test case creation complete!\n",
      "Test case creation complete!\n"
     ]
    }
   ],
   "source": [
    "from time import sleep\n",
    "import random\n",
    "from datetime import datetime\n",
    "\n",
    "\n",
    "def make_test_case() -> str:\n",
    "    \"\"\" 테스트 케이스 생성기 \"\"\"\n",
    "    MIN_N, MAX_N = 1, 100\n",
    "    MIN_M, MAX_M = 1, 100\n",
    "    NATURAL_MIN, NATURAL_MAX = 1, 10_000\n",
    "\n",
    "    N = random.randrange(MIN_N, MAX_N + 1)\n",
    "    M = random.randrange(MIN_M, MAX_N + 1)\n",
    "\n",
    "    table = []\n",
    "    for _ in range(N):\n",
    "        row = f\"{' '.join([str(random.randrange(NATURAL_MIN, NATURAL_MAX + 1)) for _ in range(M)])}\\n\"\n",
    "        table.append(row)\n",
    "\n",
    "    text = (\n",
    "        f\"{' '.join(map(str, [N, M]))}\\n\"\n",
    "        f\"{''.join(table)}\"\n",
    "    )\n",
    "\n",
    "    now = datetime.now().strftime(\"%Y-%m-%d_%H-%M-%S\")\n",
    "\n",
    "    with open(file=f\"./test/{now}.txt\", mode='w', encoding=\"utf-8\") as f:\n",
    "        f.write(text)\n",
    "\n",
    "    print(\"Test case creation complete!\")\n",
    "\n",
    "\n",
    "for _ in range(10):\n",
    "    make_test_case()\n",
    "    sleep(1)"
   ],
   "metadata": {
    "collapsed": false,
    "pycharm": {
     "name": "#%%\n"
    }
   }
  },
  {
   "cell_type": "code",
   "execution_count": 31,
   "outputs": [],
   "source": [
    "from algorithm_util import time_check\n",
    "import _io\n",
    "\n",
    "\n",
    "@time_check\n",
    "def solution_0(test: _io.TextIOWrapper) -> int:\n",
    "    \"\"\" 문제 풀이 \"\"\"\n",
    "    N, M = map(int, test.readline().split())\n",
    "    cards = [list(map(int, test.readline().split())) for _ in range(N)]\n",
    "    return max(map(lambda x: min(x), cards))\n",
    "\n",
    "\n",
    "@time_check\n",
    "def answer0(test: _io.TextIOWrapper) -> int:\n",
    "    \"\"\" 3-3 min() 함수를 이요하는 답안 예시 \"\"\"\n",
    "    n, m = map(int, test.readline().split())\n",
    "\n",
    "    result = 0\n",
    "    # 한 줄 씩 입력받아 확인\n",
    "    for i in range(n):\n",
    "        data = list(map(int, test.readline().split()))\n",
    "        # 현재 줄에서 '가장 작은 수' 찾기\n",
    "        min_value = min(data)\n",
    "        # '가장 작은 수'들 중에서 가장 큰 수 찾기\n",
    "        result = max(result, min_value)\n",
    "    return result\n",
    "\n",
    "\n",
    "@time_check\n",
    "def answer1(test: _io.TextIOWrapper) -> int:\n",
    "    \"\"\" 3-4 2중 반복문 구조를 이용하는 답안 예시 \"\"\"\n",
    "    n, m = map(int, test.readline().split())\n",
    "\n",
    "    result = 0\n",
    "    # 한 줄씩 입력받아 확인\n",
    "    for i in range(n):\n",
    "        data = list(map(int, test.readline().split()))\n",
    "        # 현재 줄에서 '가장 작은 수' 찾기\n",
    "        min_value = 10_001\n",
    "        for a in data:\n",
    "            min_value = min(min_value, a)\n",
    "        # '가장 작은 수'들 중에서 가장 큰 수를 찾기\n",
    "        result = max(result, min_value)\n",
    "\n",
    "    return result"
   ],
   "metadata": {
    "collapsed": false,
    "pycharm": {
     "name": "#%%\n"
    }
   }
  },
  {
   "cell_type": "code",
   "execution_count": 32,
   "outputs": [
    {
     "data": {
      "text/plain": "   solution_n      time  result                test_file_path\n0     ansmwer  0.001995     715  test\\2022-09-11_15-21-57.txt\n1           1  0.002990     715  test\\2022-09-11_15-21-57.txt\n2           2  0.000998     715  test\\2022-09-11_15-21-57.txt\n3     ansmwer  0.000996     960  test\\2022-09-11_15-22-22.txt\n4           1  0.001994     960  test\\2022-09-11_15-22-22.txt\n5           2  0.000997     960  test\\2022-09-11_15-22-22.txt\n6     ansmwer  0.001994    1198  test\\2022-09-11_15-22-23.txt\n7           1  0.002995    1198  test\\2022-09-11_15-22-23.txt\n8           2  0.001992    1198  test\\2022-09-11_15-22-23.txt\n9     ansmwer  0.001996     774  test\\2022-09-11_15-22-24.txt\n10          1  0.002994     774  test\\2022-09-11_15-22-24.txt\n11          2  0.001996     774  test\\2022-09-11_15-22-24.txt\n12    ansmwer  0.000994    2737  test\\2022-09-11_15-22-25.txt\n13          1  0.000000    2737  test\\2022-09-11_15-22-25.txt\n14          2  0.000000    2737  test\\2022-09-11_15-22-25.txt\n15    ansmwer  0.000000     587  test\\2022-09-11_15-22-26.txt\n16          1  0.001994     587  test\\2022-09-11_15-22-26.txt\n17          2  0.000998     587  test\\2022-09-11_15-22-26.txt\n18    ansmwer  0.001994    1189  test\\2022-09-11_15-22-27.txt\n19          1  0.001995    1189  test\\2022-09-11_15-22-27.txt\n20          2  0.000998    1189  test\\2022-09-11_15-22-27.txt\n21    ansmwer  0.001994     791  test\\2022-09-11_15-22-28.txt\n22          1  0.003989     791  test\\2022-09-11_15-22-28.txt\n23          2  0.002993     791  test\\2022-09-11_15-22-28.txt\n24    ansmwer  0.000998     809  test\\2022-09-11_15-22-29.txt\n25          1  0.002991     809  test\\2022-09-11_15-22-29.txt\n26          2  0.000997     809  test\\2022-09-11_15-22-29.txt\n27    ansmwer  0.000996    2847  test\\2022-09-11_15-22-30.txt\n28          1  0.000000    2847  test\\2022-09-11_15-22-30.txt\n29          2  0.000000    2847  test\\2022-09-11_15-22-30.txt\n30    ansmwer  0.002992     938  test\\2022-09-11_15-22-31.txt\n31          1  0.029921     938  test\\2022-09-11_15-22-31.txt\n32          2  0.001995     938  test\\2022-09-11_15-22-31.txt\n33    ansmwer  0.000000       2           test\\original_1.txt\n34          1  0.000000       2           test\\original_1.txt\n35          2  0.000000       2           test\\original_1.txt\n36    ansmwer  0.000000       3           test\\original_2.txt\n37          1  0.000000       3           test\\original_2.txt\n38          2  0.000000       3           test\\original_2.txt",
      "text/html": "<div>\n<style scoped>\n    .dataframe tbody tr th:only-of-type {\n        vertical-align: middle;\n    }\n\n    .dataframe tbody tr th {\n        vertical-align: top;\n    }\n\n    .dataframe thead th {\n        text-align: right;\n    }\n</style>\n<table border=\"1\" class=\"dataframe\">\n  <thead>\n    <tr style=\"text-align: right;\">\n      <th></th>\n      <th>solution_n</th>\n      <th>time</th>\n      <th>result</th>\n      <th>test_file_path</th>\n    </tr>\n  </thead>\n  <tbody>\n    <tr>\n      <th>0</th>\n      <td>ansmwer</td>\n      <td>0.001995</td>\n      <td>715</td>\n      <td>test\\2022-09-11_15-21-57.txt</td>\n    </tr>\n    <tr>\n      <th>1</th>\n      <td>1</td>\n      <td>0.002990</td>\n      <td>715</td>\n      <td>test\\2022-09-11_15-21-57.txt</td>\n    </tr>\n    <tr>\n      <th>2</th>\n      <td>2</td>\n      <td>0.000998</td>\n      <td>715</td>\n      <td>test\\2022-09-11_15-21-57.txt</td>\n    </tr>\n    <tr>\n      <th>3</th>\n      <td>ansmwer</td>\n      <td>0.000996</td>\n      <td>960</td>\n      <td>test\\2022-09-11_15-22-22.txt</td>\n    </tr>\n    <tr>\n      <th>4</th>\n      <td>1</td>\n      <td>0.001994</td>\n      <td>960</td>\n      <td>test\\2022-09-11_15-22-22.txt</td>\n    </tr>\n    <tr>\n      <th>5</th>\n      <td>2</td>\n      <td>0.000997</td>\n      <td>960</td>\n      <td>test\\2022-09-11_15-22-22.txt</td>\n    </tr>\n    <tr>\n      <th>6</th>\n      <td>ansmwer</td>\n      <td>0.001994</td>\n      <td>1198</td>\n      <td>test\\2022-09-11_15-22-23.txt</td>\n    </tr>\n    <tr>\n      <th>7</th>\n      <td>1</td>\n      <td>0.002995</td>\n      <td>1198</td>\n      <td>test\\2022-09-11_15-22-23.txt</td>\n    </tr>\n    <tr>\n      <th>8</th>\n      <td>2</td>\n      <td>0.001992</td>\n      <td>1198</td>\n      <td>test\\2022-09-11_15-22-23.txt</td>\n    </tr>\n    <tr>\n      <th>9</th>\n      <td>ansmwer</td>\n      <td>0.001996</td>\n      <td>774</td>\n      <td>test\\2022-09-11_15-22-24.txt</td>\n    </tr>\n    <tr>\n      <th>10</th>\n      <td>1</td>\n      <td>0.002994</td>\n      <td>774</td>\n      <td>test\\2022-09-11_15-22-24.txt</td>\n    </tr>\n    <tr>\n      <th>11</th>\n      <td>2</td>\n      <td>0.001996</td>\n      <td>774</td>\n      <td>test\\2022-09-11_15-22-24.txt</td>\n    </tr>\n    <tr>\n      <th>12</th>\n      <td>ansmwer</td>\n      <td>0.000994</td>\n      <td>2737</td>\n      <td>test\\2022-09-11_15-22-25.txt</td>\n    </tr>\n    <tr>\n      <th>13</th>\n      <td>1</td>\n      <td>0.000000</td>\n      <td>2737</td>\n      <td>test\\2022-09-11_15-22-25.txt</td>\n    </tr>\n    <tr>\n      <th>14</th>\n      <td>2</td>\n      <td>0.000000</td>\n      <td>2737</td>\n      <td>test\\2022-09-11_15-22-25.txt</td>\n    </tr>\n    <tr>\n      <th>15</th>\n      <td>ansmwer</td>\n      <td>0.000000</td>\n      <td>587</td>\n      <td>test\\2022-09-11_15-22-26.txt</td>\n    </tr>\n    <tr>\n      <th>16</th>\n      <td>1</td>\n      <td>0.001994</td>\n      <td>587</td>\n      <td>test\\2022-09-11_15-22-26.txt</td>\n    </tr>\n    <tr>\n      <th>17</th>\n      <td>2</td>\n      <td>0.000998</td>\n      <td>587</td>\n      <td>test\\2022-09-11_15-22-26.txt</td>\n    </tr>\n    <tr>\n      <th>18</th>\n      <td>ansmwer</td>\n      <td>0.001994</td>\n      <td>1189</td>\n      <td>test\\2022-09-11_15-22-27.txt</td>\n    </tr>\n    <tr>\n      <th>19</th>\n      <td>1</td>\n      <td>0.001995</td>\n      <td>1189</td>\n      <td>test\\2022-09-11_15-22-27.txt</td>\n    </tr>\n    <tr>\n      <th>20</th>\n      <td>2</td>\n      <td>0.000998</td>\n      <td>1189</td>\n      <td>test\\2022-09-11_15-22-27.txt</td>\n    </tr>\n    <tr>\n      <th>21</th>\n      <td>ansmwer</td>\n      <td>0.001994</td>\n      <td>791</td>\n      <td>test\\2022-09-11_15-22-28.txt</td>\n    </tr>\n    <tr>\n      <th>22</th>\n      <td>1</td>\n      <td>0.003989</td>\n      <td>791</td>\n      <td>test\\2022-09-11_15-22-28.txt</td>\n    </tr>\n    <tr>\n      <th>23</th>\n      <td>2</td>\n      <td>0.002993</td>\n      <td>791</td>\n      <td>test\\2022-09-11_15-22-28.txt</td>\n    </tr>\n    <tr>\n      <th>24</th>\n      <td>ansmwer</td>\n      <td>0.000998</td>\n      <td>809</td>\n      <td>test\\2022-09-11_15-22-29.txt</td>\n    </tr>\n    <tr>\n      <th>25</th>\n      <td>1</td>\n      <td>0.002991</td>\n      <td>809</td>\n      <td>test\\2022-09-11_15-22-29.txt</td>\n    </tr>\n    <tr>\n      <th>26</th>\n      <td>2</td>\n      <td>0.000997</td>\n      <td>809</td>\n      <td>test\\2022-09-11_15-22-29.txt</td>\n    </tr>\n    <tr>\n      <th>27</th>\n      <td>ansmwer</td>\n      <td>0.000996</td>\n      <td>2847</td>\n      <td>test\\2022-09-11_15-22-30.txt</td>\n    </tr>\n    <tr>\n      <th>28</th>\n      <td>1</td>\n      <td>0.000000</td>\n      <td>2847</td>\n      <td>test\\2022-09-11_15-22-30.txt</td>\n    </tr>\n    <tr>\n      <th>29</th>\n      <td>2</td>\n      <td>0.000000</td>\n      <td>2847</td>\n      <td>test\\2022-09-11_15-22-30.txt</td>\n    </tr>\n    <tr>\n      <th>30</th>\n      <td>ansmwer</td>\n      <td>0.002992</td>\n      <td>938</td>\n      <td>test\\2022-09-11_15-22-31.txt</td>\n    </tr>\n    <tr>\n      <th>31</th>\n      <td>1</td>\n      <td>0.029921</td>\n      <td>938</td>\n      <td>test\\2022-09-11_15-22-31.txt</td>\n    </tr>\n    <tr>\n      <th>32</th>\n      <td>2</td>\n      <td>0.001995</td>\n      <td>938</td>\n      <td>test\\2022-09-11_15-22-31.txt</td>\n    </tr>\n    <tr>\n      <th>33</th>\n      <td>ansmwer</td>\n      <td>0.000000</td>\n      <td>2</td>\n      <td>test\\original_1.txt</td>\n    </tr>\n    <tr>\n      <th>34</th>\n      <td>1</td>\n      <td>0.000000</td>\n      <td>2</td>\n      <td>test\\original_1.txt</td>\n    </tr>\n    <tr>\n      <th>35</th>\n      <td>2</td>\n      <td>0.000000</td>\n      <td>2</td>\n      <td>test\\original_1.txt</td>\n    </tr>\n    <tr>\n      <th>36</th>\n      <td>ansmwer</td>\n      <td>0.000000</td>\n      <td>3</td>\n      <td>test\\original_2.txt</td>\n    </tr>\n    <tr>\n      <th>37</th>\n      <td>1</td>\n      <td>0.000000</td>\n      <td>3</td>\n      <td>test\\original_2.txt</td>\n    </tr>\n    <tr>\n      <th>38</th>\n      <td>2</td>\n      <td>0.000000</td>\n      <td>3</td>\n      <td>test\\original_2.txt</td>\n    </tr>\n  </tbody>\n</table>\n</div>"
     },
     "execution_count": 32,
     "metadata": {},
     "output_type": "execute_result"
    }
   ],
   "source": [
    "from algorithm_util import result_df\n",
    "\n",
    "solutions = [\n",
    "    answer0,\n",
    "    answer1,\n",
    "    solution_0,\n",
    "]\n",
    "\n",
    "result_df(solutions)"
   ],
   "metadata": {
    "collapsed": false,
    "pycharm": {
     "name": "#%%\n"
    }
   }
  },
  {
   "cell_type": "code",
   "execution_count": null,
   "outputs": [],
   "source": [],
   "metadata": {
    "collapsed": false,
    "pycharm": {
     "name": "#%%\n"
    }
   }
  }
 ],
 "metadata": {
  "kernelspec": {
   "display_name": "Python 3",
   "language": "python",
   "name": "python3"
  },
  "language_info": {
   "codemirror_mode": {
    "name": "ipython",
    "version": 2
   },
   "file_extension": ".py",
   "mimetype": "text/x-python",
   "name": "python",
   "nbconvert_exporter": "python",
   "pygments_lexer": "ipython2",
   "version": "2.7.6"
  }
 },
 "nbformat": 4,
 "nbformat_minor": 0
}