{
 "cells": [
  {
   "cell_type": "markdown",
   "source": [
    "# 거스름돈\n",
    "\n",
    "당시은 음식점의 계산을 도와주는 점원이다. 카운터에서 거스름돈으로 사용할 500원, 100원, 50원, 10원짜리 동전이 무한히 존재한다고 가정한다. 손님에게 거슬러 줘야 할 돈이 N원 일때 거슬러 줘야 할 동전의 최소 개수를 구하라. 단, 거슬러 줘야할 돈 N은 항상 10의 배수이다."
   ],
   "metadata": {
    "collapsed": false,
    "pycharm": {
     "name": "#%% md\n"
    }
   }
  },
  {
   "cell_type": "markdown",
   "source": [
    "### input\n",
    "N : 자연수 10의 배수\n",
    "\n",
    "### output\n",
    "answer : 거슬러줘야할 동전 최소의 개수"
   ],
   "metadata": {
    "collapsed": false,
    "pycharm": {
     "name": "#%% md\n"
    }
   }
  },
  {
   "cell_type": "code",
   "execution_count": 1,
   "outputs": [
    {
     "data": {
      "text/plain": "(0.0, 6)"
     },
     "execution_count": 1,
     "metadata": {},
     "output_type": "execute_result"
    }
   ],
   "source": [
    "from algorithm_util import time_check\n",
    "\n",
    "\n",
    "@time_check\n",
    "def main() -> None:\n",
    "    \"\"\" 메인 함수 실행 \"\"\"\n",
    "    N = 1_260\n",
    "    answer = 0\n",
    "    coin_type = [500, 100, 50, 10]  # 코인들\n",
    "\n",
    "    for coin in coin_type:  # O(코인의 수)\n",
    "        answer += N // coin\n",
    "        N %= coin\n",
    "\n",
    "    return answer\n",
    "\n",
    "\n",
    "main()  # 함수 실행"
   ],
   "metadata": {
    "collapsed": false,
    "pycharm": {
     "name": "#%%\n"
    }
   }
  },
  {
   "cell_type": "code",
   "execution_count": null,
   "outputs": [],
   "source": [],
   "metadata": {
    "collapsed": false,
    "pycharm": {
     "name": "#%%\n"
    }
   }
  }
 ],
 "metadata": {
  "kernelspec": {
   "display_name": "Python 3",
   "language": "python",
   "name": "python3"
  },
  "language_info": {
   "codemirror_mode": {
    "name": "ipython",
    "version": 2
   },
   "file_extension": ".py",
   "mimetype": "text/x-python",
   "name": "python",
   "nbconvert_exporter": "python",
   "pygments_lexer": "ipython2",
   "version": "2.7.6"
  }
 },
 "nbformat": 4,
 "nbformat_minor": 0
}