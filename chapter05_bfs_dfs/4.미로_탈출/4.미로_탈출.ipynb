{
 "cells": [
  {
   "cell_type": "markdown",
   "source": [
    "# 미로 탈출\n",
    "\n",
    "문제\n",
    "N x M 크기의 직사각형 형태의 미로에 여러 마리의 괴물이 있어 이를 피해 탈출해야 한다. 현재 위치는 (1, 1)이고 미로의 출구는 (N,M)의 위치에 존재하며 한 번에 한 칸씩 이동할 수 있다. 괴물이 있는 부분은 0으로, 괴물이 없는 부분은 1로 표시되어 있다. 미로는 반드시 탈출할 수 있는 형태로 제시된다. 탈출하기 위해 움직여야 하는 최소 칸의 개수를 구하라. 칸을 셀 때는 시작 칸과 마지막 칸을 모두 포함해서 계산한다.\n",
    "\n",
    "### input\n",
    "입력\n",
    "첫째 줄에 두 정수 N, M(4 <= N, M <= 200)이 주어진다. 다음 N개의 줄에는 각각 M개의 정수(0혹은 1)로 미로의 정보가 주어진다. 각각의 수들은 공백 없이붙어서 입력으로 제시된다. 또한 시작 칸과 마지막 칸은 항상 1이다.\n",
    "\n",
    "### output\n",
    "첫째 줄에 최소 이동 칸의 개수를 출력한다."
   ],
   "metadata": {
    "collapsed": false,
    "pycharm": {
     "name": "#%% md\n"
    }
   }
  },
  {
   "cell_type": "code",
   "execution_count": 1,
   "outputs": [],
   "source": [
    "import random\n",
    "import uuid\n",
    "\n",
    "\n",
    "# def make_test_case() -> str:\n",
    "#     \"\"\" 테스트 케이스 생성기 \"\"\"\n",
    "#     MIN_N, MAX_N = 4, 200\n",
    "#     MIN_M, MAX_M = 4, 200\n",
    "#\n",
    "#     N = random.randrange(MIN_N, MAX_N + 1)\n",
    "#     M = random.randrange(MIN_M, MAX_N + 1)\n",
    "#\n",
    "#     BOARD = []\n",
    "#     for row in range(N):\n",
    "#         tmp_row = []\n",
    "#         for col in range(M):\n",
    "#             map_status = random.randrange(0, 1 + 1)\n",
    "#             tmp_row.append(map_status)\n",
    "#         BOARD.append(tmp_row)\n",
    "#\n",
    "#     text = (\n",
    "#                f\"{' '.join(map(str, [N, M]))}\\n\"\n",
    "#            ) + ''.join([f\"{''.join(map(str, row))}\\n\" for row in BOARD])\n",
    "#\n",
    "#     with open(file=f\"./test/{uuid.uuid4()}.txt\", mode='w', encoding=\"utf-8\") as f:\n",
    "#         f.write(text)\n",
    "#\n",
    "#     print(\"Test case creation complete!\")\n",
    "#\n",
    "#\n",
    "# for _ in range(10):\n",
    "#     make_test_case()"
   ],
   "metadata": {
    "collapsed": false,
    "pycharm": {
     "name": "#%%\n"
    }
   }
  },
  {
   "cell_type": "code",
   "execution_count": 7,
   "outputs": [],
   "source": [
    "from collections import deque\n",
    "import _io\n",
    "from algorithm_util import time_check\n",
    "\n",
    "\n",
    "@time_check\n",
    "def answer(test: _io.TextIOWrapper) -> int:\n",
    "    # N, M을 공백을 기준으로 구분하여 입력 받기\n",
    "    n, m = map(int, test.readline().split())\n",
    "    # 2차원 리스트의 맵 정보 입력 받기\n",
    "    graph = []\n",
    "    for i in range(n):\n",
    "        graph.append(list(map(int, test.readline().strip())))\n",
    "\n",
    "    # 이동할 네 가지 방향 정의 (상, 하, 좌, 우)\n",
    "    dx = [-1, 1, 0, 0]\n",
    "    dy = [0, 0, -1, 1]\n",
    "\n",
    "    # BFS 소스코드 구현\n",
    "    def bfs(x, y):\n",
    "        # 큐(Queue) 구현을 위해 deque 라이브러리 사용\n",
    "        queue = deque()\n",
    "        queue.append((x, y))\n",
    "        # 큐가 빌 때까지 반복하기\n",
    "        while queue:\n",
    "            x, y = queue.popleft()\n",
    "            # 현재 위치에서 4가지 방향으로의 위치 확인\n",
    "            for i in range(4):\n",
    "                nx = x + dx[i]\n",
    "                ny = y + dy[i]\n",
    "                # 미로 찾기 공간을 벗어난 경우 무시\n",
    "                if nx < 0 or nx >= n or ny < 0 or ny >= m:\n",
    "                    continue\n",
    "                # 벽인 경우 무시\n",
    "                if graph[nx][ny] == 0:\n",
    "                    continue\n",
    "                # 해당 노드를 처음 방문하는 경우에만 최단 거리 기록\n",
    "                if graph[nx][ny] == 1:\n",
    "                    graph[nx][ny] = graph[x][y] + 1\n",
    "                    queue.append((nx, ny))\n",
    "        # 가장 오른쪽 아래까지의 최단 거리 반환\n",
    "        return graph[n - 1][m - 1]\n",
    "\n",
    "    # BFS를 수행한 결과 출력\n",
    "    return bfs(0, 0)\n",
    "\n",
    "\n",
    "@time_check\n",
    "def solution_0(test: _io.TextIOWrapper) -> int:\n",
    "    \"\"\" 풀이 정답 \"\"\"\n",
    "    GORUND = \"1\"\n",
    "    WALL = \"0\"\n",
    "    MOVE = [\n",
    "        (-1, 0),  # 위\n",
    "        (0, 1),  # 오른쪽\n",
    "        (1, 0),  # 아래\n",
    "        (0, -1),  # 왼쪽\n",
    "    ]\n",
    "\n",
    "    ROW, COL = map(int, test.readline().split())\n",
    "    ROW_END, ROW_COL = ROW - 1, COL - 1\n",
    "    BOREAD = [list(test.readline().strip()) for _ in range(ROW)]\n",
    "\n",
    "    class D:\n",
    "        visited = [[0] * COL for _ in range(ROW)]\n",
    "\n",
    "    def bfs(row: int, col: int) -> int:\n",
    "        q = deque([(row, col, 1)])\n",
    "\n",
    "        while q:\n",
    "            crow, ccol, ccount = q.popleft()\n",
    "            if D.visited[crow][ccol]:\n",
    "                continue\n",
    "            D.visited[crow][ccol] = ccount\n",
    "\n",
    "            for trow, tcol in MOVE:\n",
    "                nrow, ncol = trow + crow, tcol + ccol\n",
    "                if not (0 <= nrow < ROW and 0 <= ncol < COL):\n",
    "                    continue\n",
    "                if BOREAD[nrow][ncol] == WALL:\n",
    "                    continue\n",
    "                if D.visited[nrow][ncol]:\n",
    "                    continue\n",
    "                q.append((nrow, ncol, ccount + 1))\n",
    "\n",
    "    def main() -> None:\n",
    "        \"\"\" 실행 \"\"\"\n",
    "\n",
    "        for row in range(ROW):\n",
    "            for col in range(COL):\n",
    "                if BOREAD[row][col] == WALL:\n",
    "                    continue\n",
    "                if D.visited[row][col]:\n",
    "                    continue\n",
    "                bfs(row, col)\n",
    "\n",
    "        return D.visited[ROW_END][ROW_COL]\n",
    "\n",
    "    return main()"
   ],
   "metadata": {
    "collapsed": false,
    "pycharm": {
     "name": "#%%\n"
    }
   }
  },
  {
   "cell_type": "code",
   "execution_count": 8,
   "outputs": [
    {
     "data": {
      "text/plain": "  solution_n      time  result     test_file_path\n0     answer  0.000000      10  test\\original.txt\n1          1  0.000999      10  test\\original.txt",
      "text/html": "<div>\n<style scoped>\n    .dataframe tbody tr th:only-of-type {\n        vertical-align: middle;\n    }\n\n    .dataframe tbody tr th {\n        vertical-align: top;\n    }\n\n    .dataframe thead th {\n        text-align: right;\n    }\n</style>\n<table border=\"1\" class=\"dataframe\">\n  <thead>\n    <tr style=\"text-align: right;\">\n      <th></th>\n      <th>solution_n</th>\n      <th>time</th>\n      <th>result</th>\n      <th>test_file_path</th>\n    </tr>\n  </thead>\n  <tbody>\n    <tr>\n      <th>0</th>\n      <td>answer</td>\n      <td>0.000000</td>\n      <td>10</td>\n      <td>test\\original.txt</td>\n    </tr>\n    <tr>\n      <th>1</th>\n      <td>1</td>\n      <td>0.000999</td>\n      <td>10</td>\n      <td>test\\original.txt</td>\n    </tr>\n  </tbody>\n</table>\n</div>"
     },
     "execution_count": 8,
     "metadata": {},
     "output_type": "execute_result"
    }
   ],
   "source": [
    "from algorithm_util import result_df\n",
    "\n",
    "solutions = [\n",
    "    answer,\n",
    "    solution_0,\n",
    "]\n",
    "\n",
    "result_df(solutions)"
   ],
   "metadata": {
    "collapsed": false,
    "pycharm": {
     "name": "#%%\n"
    }
   }
  },
  {
   "cell_type": "code",
   "execution_count": null,
   "outputs": [],
   "source": [],
   "metadata": {
    "collapsed": false,
    "pycharm": {
     "name": "#%%\n"
    }
   }
  }
 ],
 "metadata": {
  "kernelspec": {
   "display_name": "Python 3",
   "language": "python",
   "name": "python3"
  },
  "language_info": {
   "codemirror_mode": {
    "name": "ipython",
    "version": 2
   },
   "file_extension": ".py",
   "mimetype": "text/x-python",
   "name": "python",
   "nbconvert_exporter": "python",
   "pygments_lexer": "ipython2",
   "version": "2.7.6"
  }
 },
 "nbformat": 4,
 "nbformat_minor": 0
}