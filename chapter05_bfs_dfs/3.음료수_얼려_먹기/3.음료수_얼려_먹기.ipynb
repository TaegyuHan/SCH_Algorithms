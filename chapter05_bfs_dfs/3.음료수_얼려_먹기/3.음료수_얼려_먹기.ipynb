{
 "cells": [
  {
   "cell_type": "markdown",
   "source": [
    "# 음료수 얼려 먹기\n",
    "\n",
    "문제\n",
    "N × M 크기의 얼음 틀이 있다. 구멍이 뚫려 있는 부분은 0, 칸막이가 존재하는 부분은 1로 표시된다.\n",
    "구멍이 뚫려 있는 부분끼리 상, 하, 좌, 우로 붙어 있는 경우 서로 연결되어 있는 것으로 간주한다.\n",
    "이때 얼음 틀의 모양이 주어졌을 때 생성되는 총 아이스크림의 개수를 구하는 프로그램을 작성하라.\n",
    "다음의 4 × 5 얼음 틀 예시에서는 아이스크림이 총 3개가 생성된다\n",
    "\n",
    "### input\n",
    "- 첫 번째 줄에 얼음 틀의 세로 길이 N과 가로 길이 M이 주어진다.\n",
    "    - (1 <= N, M <= 1,000)\n",
    "- 두 번째 줄부터 N + 1 번째 줄까지 얼음 틀의 형태가 주어진다.\n",
    "- 이때 구멍이 뚫려있는 부분은 0, 그렇지 않은 부분은 1이다.\n",
    "\n",
    "### output\n",
    "- 한 번에 만들 수 있는 아이스크림의 개수를 출력한다."
   ],
   "metadata": {
    "collapsed": false,
    "pycharm": {
     "name": "#%% md\n"
    }
   }
  },
  {
   "cell_type": "code",
   "execution_count": 6,
   "metadata": {
    "collapsed": true,
    "pycharm": {
     "name": "#%%\n"
    }
   },
   "outputs": [
    {
     "name": "stdout",
     "output_type": "stream",
     "text": [
      "Test case creation complete!\n",
      "Test case creation complete!\n",
      "Test case creation complete!\n",
      "Test case creation complete!\n",
      "Test case creation complete!\n",
      "Test case creation complete!\n",
      "Test case creation complete!\n",
      "Test case creation complete!\n",
      "Test case creation complete!\n",
      "Test case creation complete!\n"
     ]
    }
   ],
   "source": [
    "import random\n",
    "import uuid\n",
    "\n",
    "\n",
    "def make_test_case() -> str:\n",
    "    \"\"\" 테스트 케이스 생성기 \"\"\"\n",
    "    MIN_N, MAX_N = 1, 1_000\n",
    "    MIN_M, MAX_M = 1, 1_000\n",
    "\n",
    "    N = random.randrange(MIN_N, MAX_N + 1)\n",
    "    M = random.randrange(MIN_M, MAX_N + 1)\n",
    "\n",
    "    BOARD = []\n",
    "    for row in range(N):\n",
    "        tmp_row = []\n",
    "        for col in range(M):\n",
    "            map_status = random.randrange(0, 1 + 1)\n",
    "            tmp_row.append(map_status)\n",
    "        BOARD.append(tmp_row)\n",
    "\n",
    "    text = (\n",
    "               f\"{' '.join(map(str, [N, M]))}\\n\"\n",
    "           ) + ''.join([f\"{''.join(map(str, row))}\\n\" for row in BOARD])\n",
    "\n",
    "    with open(file=f\"./test/{uuid.uuid4()}.txt\", mode='w', encoding=\"utf-8\") as f:\n",
    "        f.write(text)\n",
    "\n",
    "    print(\"Test case creation complete!\")\n",
    "\n",
    "\n",
    "for _ in range(10):\n",
    "    make_test_case()"
   ]
  },
  {
   "cell_type": "code",
   "execution_count": 24,
   "outputs": [],
   "source": [
    "from collections import deque\n",
    "import _io\n",
    "from algorithm_util import time_check\n",
    "\n",
    "\n",
    "@time_check\n",
    "def answer(test: _io.TextIOWrapper) -> int:\n",
    "    n, m = map(int, test.readline().split())\n",
    "\n",
    "    # 2차원 리스트의 맵 정보 입력 받기\n",
    "    graph = []\n",
    "    for i in range(n):\n",
    "        graph.append(list(map(int, test.readline().strip())))\n",
    "\n",
    "    # DFS로 특정한 노드를 방문한 뒤에 연결된 모든 노드들도 방문\n",
    "    def dfs(x, y):\n",
    "        # 주어진 범위를 벗어나는 경우에는 즉시 종료\n",
    "        if x <= -1 or x >= n or y <= -1 or y >= m:\n",
    "            return False\n",
    "        # 현재 노드를 아직 방문하지 않았다면\n",
    "        if graph[x][y] == 0:\n",
    "            # 해당 노드 방문 처리\n",
    "            graph[x][y] = 1\n",
    "            # 상, 하, 좌, 우의 위치들도 모두 재귀적으로 호출\n",
    "            dfs(x - 1, y)\n",
    "            dfs(x, y - 1)\n",
    "            dfs(x + 1, y)\n",
    "            dfs(x, y + 1)\n",
    "            return True\n",
    "        return False\n",
    "\n",
    "    # 모든 노드(위치)에 대하여 음료수 채우기\n",
    "    result = 0\n",
    "    for i in range(n):\n",
    "        for j in range(m):\n",
    "            # 현재 위치에서 DFS 수행\n",
    "            if dfs(i, j) == True:\n",
    "                result += 1\n",
    "\n",
    "    return result\n",
    "\n",
    "\n",
    "@time_check\n",
    "def solution_0(test: _io.TextIOWrapper) -> int:\n",
    "    \"\"\" 풀이 정답 \"\"\"\n",
    "    WALL = \"1\"\n",
    "    EMPTY = \"0\"\n",
    "    MOVE = [\n",
    "        (-1, 0),  # 위\n",
    "        (0, 1),  # 오른쪽\n",
    "        (1, 0),  # 아래\n",
    "        (0, -1),  # 왼쪽\n",
    "    ]\n",
    "    ROW, COL = map(int, test.readline().split())\n",
    "    BOREAD = [list(test.readline().strip()) for _ in range(ROW)]\n",
    "\n",
    "    class D:\n",
    "        visited = [[False] * COL for _ in range(ROW)]\n",
    "\n",
    "    def bfs(row: int, col: int) -> int:\n",
    "        q = deque([(row, col)])\n",
    "\n",
    "        while q:\n",
    "            crow, ccol = q.popleft()\n",
    "            if D.visited[crow][ccol]:\n",
    "                continue\n",
    "            D.visited[crow][ccol] = True\n",
    "\n",
    "            for trow, tcol in MOVE:\n",
    "                nrow, ncol = trow + crow, tcol + ccol\n",
    "                if not (0 <= nrow < ROW and 0 <= ncol < COL):\n",
    "                    continue\n",
    "                if BOREAD[nrow][ncol] == WALL:\n",
    "                    continue\n",
    "                if D.visited[nrow][ncol]:\n",
    "                    continue\n",
    "                q.append((nrow, ncol))\n",
    "        return 1\n",
    "\n",
    "    def main() -> None:\n",
    "        \"\"\" 실행 \"\"\"\n",
    "        answer = 0\n",
    "\n",
    "        for row in range(ROW):\n",
    "            for col in range(COL):\n",
    "                if BOREAD[row][col] == WALL:\n",
    "                    continue\n",
    "                if D.visited[row][col]:\n",
    "                    continue\n",
    "                answer += bfs(row, col)\n",
    "\n",
    "        return answer\n",
    "\n",
    "    return main()"
   ],
   "metadata": {
    "collapsed": false,
    "pycharm": {
     "name": "#%%\n"
    }
   }
  },
  {
   "cell_type": "code",
   "execution_count": 25,
   "outputs": [
    {
     "data": {
      "text/plain": "   solution_n      time  result                                 test_file_path\n0      answer  0.179520   16999  test\\211b48a8-ac6a-4e11-91dd-8377caee38df.txt\n1           1  0.220411   16999  test\\211b48a8-ac6a-4e11-91dd-8377caee38df.txt\n2      answer  0.146608    8755  test\\3cfd8ae9-38a2-4a38-86b2-80c81cedcbf7.txt\n3           1  0.109705    8755  test\\3cfd8ae9-38a2-4a38-86b2-80c81cedcbf7.txt\n4      answer  0.075797    7740  test\\5f004f0e-8860-41ec-b87a-05c77e510383.txt\n5           1  0.066821    7740  test\\5f004f0e-8860-41ec-b87a-05c77e510383.txt\n6      answer  0.306181   32155  test\\76d44a3f-453d-4eae-b478-a83f1078e0e0.txt\n7           1  0.293248   32155  test\\76d44a3f-453d-4eae-b478-a83f1078e0e0.txt\n8      answer  0.097742    9869  test\\784d6024-49aa-4d47-8046-211fd882d9db.txt\n9           1  0.088794    9869  test\\784d6024-49aa-4d47-8046-211fd882d9db.txt\n10     answer  0.506647   52174  test\\7fd41528-724a-4baf-bfd4-cbcc97201a3f.txt\n11          1  0.487699   52174  test\\7fd41528-724a-4baf-bfd4-cbcc97201a3f.txt\n12     answer  0.137628   14326  test\\94126082-af95-47a8-8262-d58575e4cdff.txt\n13          1  0.137632   14326  test\\94126082-af95-47a8-8262-d58575e4cdff.txt\n14     answer  0.002991     334  test\\a6464711-83c4-4cce-a3fb-36e15b732b96.txt\n15          1  0.001994     334  test\\a6464711-83c4-4cce-a3fb-36e15b732b96.txt\n16     answer  0.016956    1815  test\\a90f6f65-6061-465d-a697-69ab3ef3360a.txt\n17          1  0.015961    1815  test\\a90f6f65-6061-465d-a697-69ab3ef3360a.txt\n18     answer  0.209436   21924  test\\d1f2359f-8ebe-4164-9b90-6598d9f87733.txt\n19          1  0.205452   21924  test\\d1f2359f-8ebe-4164-9b90-6598d9f87733.txt\n20     answer  0.002990     322  test\\fcc8bb7a-b927-49a4-b432-829d3a29c87a.txt\n21          1  0.004987     322  test\\fcc8bb7a-b927-49a4-b432-829d3a29c87a.txt\n22     answer  0.000000       3                              test\\original.txt\n23          1  0.000000       3                              test\\original.txt",
      "text/html": "<div>\n<style scoped>\n    .dataframe tbody tr th:only-of-type {\n        vertical-align: middle;\n    }\n\n    .dataframe tbody tr th {\n        vertical-align: top;\n    }\n\n    .dataframe thead th {\n        text-align: right;\n    }\n</style>\n<table border=\"1\" class=\"dataframe\">\n  <thead>\n    <tr style=\"text-align: right;\">\n      <th></th>\n      <th>solution_n</th>\n      <th>time</th>\n      <th>result</th>\n      <th>test_file_path</th>\n    </tr>\n  </thead>\n  <tbody>\n    <tr>\n      <th>0</th>\n      <td>answer</td>\n      <td>0.179520</td>\n      <td>16999</td>\n      <td>test\\211b48a8-ac6a-4e11-91dd-8377caee38df.txt</td>\n    </tr>\n    <tr>\n      <th>1</th>\n      <td>1</td>\n      <td>0.220411</td>\n      <td>16999</td>\n      <td>test\\211b48a8-ac6a-4e11-91dd-8377caee38df.txt</td>\n    </tr>\n    <tr>\n      <th>2</th>\n      <td>answer</td>\n      <td>0.146608</td>\n      <td>8755</td>\n      <td>test\\3cfd8ae9-38a2-4a38-86b2-80c81cedcbf7.txt</td>\n    </tr>\n    <tr>\n      <th>3</th>\n      <td>1</td>\n      <td>0.109705</td>\n      <td>8755</td>\n      <td>test\\3cfd8ae9-38a2-4a38-86b2-80c81cedcbf7.txt</td>\n    </tr>\n    <tr>\n      <th>4</th>\n      <td>answer</td>\n      <td>0.075797</td>\n      <td>7740</td>\n      <td>test\\5f004f0e-8860-41ec-b87a-05c77e510383.txt</td>\n    </tr>\n    <tr>\n      <th>5</th>\n      <td>1</td>\n      <td>0.066821</td>\n      <td>7740</td>\n      <td>test\\5f004f0e-8860-41ec-b87a-05c77e510383.txt</td>\n    </tr>\n    <tr>\n      <th>6</th>\n      <td>answer</td>\n      <td>0.306181</td>\n      <td>32155</td>\n      <td>test\\76d44a3f-453d-4eae-b478-a83f1078e0e0.txt</td>\n    </tr>\n    <tr>\n      <th>7</th>\n      <td>1</td>\n      <td>0.293248</td>\n      <td>32155</td>\n      <td>test\\76d44a3f-453d-4eae-b478-a83f1078e0e0.txt</td>\n    </tr>\n    <tr>\n      <th>8</th>\n      <td>answer</td>\n      <td>0.097742</td>\n      <td>9869</td>\n      <td>test\\784d6024-49aa-4d47-8046-211fd882d9db.txt</td>\n    </tr>\n    <tr>\n      <th>9</th>\n      <td>1</td>\n      <td>0.088794</td>\n      <td>9869</td>\n      <td>test\\784d6024-49aa-4d47-8046-211fd882d9db.txt</td>\n    </tr>\n    <tr>\n      <th>10</th>\n      <td>answer</td>\n      <td>0.506647</td>\n      <td>52174</td>\n      <td>test\\7fd41528-724a-4baf-bfd4-cbcc97201a3f.txt</td>\n    </tr>\n    <tr>\n      <th>11</th>\n      <td>1</td>\n      <td>0.487699</td>\n      <td>52174</td>\n      <td>test\\7fd41528-724a-4baf-bfd4-cbcc97201a3f.txt</td>\n    </tr>\n    <tr>\n      <th>12</th>\n      <td>answer</td>\n      <td>0.137628</td>\n      <td>14326</td>\n      <td>test\\94126082-af95-47a8-8262-d58575e4cdff.txt</td>\n    </tr>\n    <tr>\n      <th>13</th>\n      <td>1</td>\n      <td>0.137632</td>\n      <td>14326</td>\n      <td>test\\94126082-af95-47a8-8262-d58575e4cdff.txt</td>\n    </tr>\n    <tr>\n      <th>14</th>\n      <td>answer</td>\n      <td>0.002991</td>\n      <td>334</td>\n      <td>test\\a6464711-83c4-4cce-a3fb-36e15b732b96.txt</td>\n    </tr>\n    <tr>\n      <th>15</th>\n      <td>1</td>\n      <td>0.001994</td>\n      <td>334</td>\n      <td>test\\a6464711-83c4-4cce-a3fb-36e15b732b96.txt</td>\n    </tr>\n    <tr>\n      <th>16</th>\n      <td>answer</td>\n      <td>0.016956</td>\n      <td>1815</td>\n      <td>test\\a90f6f65-6061-465d-a697-69ab3ef3360a.txt</td>\n    </tr>\n    <tr>\n      <th>17</th>\n      <td>1</td>\n      <td>0.015961</td>\n      <td>1815</td>\n      <td>test\\a90f6f65-6061-465d-a697-69ab3ef3360a.txt</td>\n    </tr>\n    <tr>\n      <th>18</th>\n      <td>answer</td>\n      <td>0.209436</td>\n      <td>21924</td>\n      <td>test\\d1f2359f-8ebe-4164-9b90-6598d9f87733.txt</td>\n    </tr>\n    <tr>\n      <th>19</th>\n      <td>1</td>\n      <td>0.205452</td>\n      <td>21924</td>\n      <td>test\\d1f2359f-8ebe-4164-9b90-6598d9f87733.txt</td>\n    </tr>\n    <tr>\n      <th>20</th>\n      <td>answer</td>\n      <td>0.002990</td>\n      <td>322</td>\n      <td>test\\fcc8bb7a-b927-49a4-b432-829d3a29c87a.txt</td>\n    </tr>\n    <tr>\n      <th>21</th>\n      <td>1</td>\n      <td>0.004987</td>\n      <td>322</td>\n      <td>test\\fcc8bb7a-b927-49a4-b432-829d3a29c87a.txt</td>\n    </tr>\n    <tr>\n      <th>22</th>\n      <td>answer</td>\n      <td>0.000000</td>\n      <td>3</td>\n      <td>test\\original.txt</td>\n    </tr>\n    <tr>\n      <th>23</th>\n      <td>1</td>\n      <td>0.000000</td>\n      <td>3</td>\n      <td>test\\original.txt</td>\n    </tr>\n  </tbody>\n</table>\n</div>"
     },
     "execution_count": 25,
     "metadata": {},
     "output_type": "execute_result"
    }
   ],
   "source": [
    "from algorithm_util import result_df\n",
    "\n",
    "solutions = [\n",
    "    answer,\n",
    "    solution_0,\n",
    "]\n",
    "\n",
    "result_df(solutions)"
   ],
   "metadata": {
    "collapsed": false,
    "pycharm": {
     "name": "#%%\n"
    }
   }
  },
  {
   "cell_type": "code",
   "execution_count": null,
   "outputs": [],
   "source": [],
   "metadata": {
    "collapsed": false,
    "pycharm": {
     "name": "#%%\n"
    }
   }
  }
 ],
 "metadata": {
  "kernelspec": {
   "display_name": "Python 3",
   "language": "python",
   "name": "python3"
  },
  "language_info": {
   "codemirror_mode": {
    "name": "ipython",
    "version": 2
   },
   "file_extension": ".py",
   "mimetype": "text/x-python",
   "name": "python",
   "nbconvert_exporter": "python",
   "pygments_lexer": "ipython2",
   "version": "2.7.6"
  }
 },
 "nbformat": 4,
 "nbformat_minor": 0
}