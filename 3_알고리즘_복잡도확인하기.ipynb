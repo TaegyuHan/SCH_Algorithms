{
 "cells": [
  {
   "cell_type": "markdown",
   "source": [
    "# SCH Algorithms Class\n",
    "교수님 : 조정기\n",
    "작성자 : 한태규\n",
    "날짜 : 2022-09-05 (월요일)\n",
    "내용 : 알고리즘 복잡도 비교해보기"
   ],
   "metadata": {
    "collapsed": false,
    "pycharm": {
     "name": "#%% md\n"
    }
   }
  },
  {
   "cell_type": "markdown",
   "source": [
    "## 1.작동시간 확인 데코레이터\n",
    "\n",
    "함수의 동작 시간을 계산 후 출력하는 데코레이터 입니다.\n"
   ],
   "metadata": {
    "collapsed": false,
    "pycharm": {
     "name": "#%% md\n"
    }
   }
  },
  {
   "cell_type": "code",
   "execution_count": 12,
   "outputs": [],
   "source": [
    "import time\n",
    "\n",
    "def time_check(message: str):\n",
    "    def real_decorator(func):\n",
    "        def wrapper_function(n):\n",
    "            start_time = time.time()\n",
    "            result = func(n)\n",
    "            end_time = time.time()\n",
    "            print(f\"BigO : O({message}) | N : {n} | Time : {end_time - start_time}\")\n",
    "            return result\n",
    "        return wrapper_function\n",
    "    return real_decorator"
   ],
   "metadata": {
    "collapsed": false,
    "pycharm": {
     "name": "#%%\n"
    }
   }
  },
  {
   "cell_type": "markdown",
   "source": [
    "## 2. 알고리즘 복잡도 함수"
   ],
   "metadata": {
    "collapsed": false,
    "pycharm": {
     "name": "#%% md\n"
    }
   }
  },
  {
   "cell_type": "code",
   "execution_count": null,
   "outputs": [],
   "source": [
    "import math\n",
    "\n",
    "\n",
    "@time_check(message=\"n * logn\")\n",
    "def nlogn(n: int) -> int:\n",
    "    \"\"\" nlong 함수 \"\"\"\n",
    "    tmp_list = []\n",
    "    for n in range(1, n + 1):\n",
    "        tmp_list.append(n * math.log2(n))\n",
    "    return tmp_list\n",
    "\n",
    "\n",
    "@time_check(message=\"n * n\")\n",
    "def nn(n: int) -> int:\n",
    "    \"\"\" n * n 제곱 함수 \"\"\"\n",
    "    tmp_list = []\n",
    "    for n in range(1, n + 1):\n",
    "        tmp_list.append(n * n)\n",
    "    return tmp_list\n",
    "\n",
    "\n",
    "@time_check(message=\"n ** 2\")\n",
    "def npow2(n: int) -> int:\n",
    "    \"\"\" 2의 거듭제곱 함수 \"\"\"\n",
    "    tmp_list = []\n",
    "    for n in range(1, n + 1):\n",
    "        tmp_list.append(2 ** n)\n",
    "    return tmp_list\n",
    "\n",
    "\n",
    "@time_check(message=\"n!\")\n",
    "def factorial(n: int) -> int:\n",
    "    \"\"\" n! 함수 \"\"\"\n",
    "    tmp_list = []\n",
    "    for i in range(1, n + 1):\n",
    "        result = 1\n",
    "        for j in range(1, i + 1):\n",
    "            result *= j\n",
    "        tmp_list.append(result)\n",
    "    return tmp_list\n"
   ],
   "metadata": {
    "collapsed": false,
    "pycharm": {
     "name": "#%%\n"
    }
   }
  },
  {
   "cell_type": "markdown",
   "source": [
    "계산결과"
   ],
   "metadata": {
    "collapsed": false,
    "pycharm": {
     "name": "#%% md\n"
    }
   }
  },
  {
   "cell_type": "markdown",
   "source": [
    "## 1번 알고리즘 시각화"
   ],
   "metadata": {
    "collapsed": false,
    "pycharm": {
     "name": "#%% md\n"
    }
   }
  },
  {
   "cell_type": "code",
   "execution_count": null,
   "outputs": [],
   "source": [
    "import matplotlib.pyplot as plt\n",
    "\n",
    "N = 5\n",
    "x_axis = [i for i in range(N)]\n",
    "plt.plot(nlogn(N), x_axis)\n",
    "plt.plot(nn(N), x_axis)\n",
    "plt.plot(npow2(N), x_axis)\n",
    "plt.plot(factorial(N), x_axis)\n",
    "plt.show()"
   ],
   "metadata": {
    "collapsed": false,
    "pycharm": {
     "name": "#%%\n"
    }
   }
  },
  {
   "cell_type": "markdown",
   "source": [
    "## 2.번\n",
    "\n",
    "$\\sum_{j = 1}^{n} j$ 코딩으로 변경\n"
   ],
   "metadata": {
    "collapsed": false,
    "pycharm": {
     "name": "#%% md\n"
    }
   }
  },
  {
   "cell_type": "code",
   "execution_count": null,
   "outputs": [],
   "source": [
    "def natural_sum(n: int) -> int:\n",
    "    \"\"\" 자연수 합 \"\"\"\n",
    "    start_time = time.time()\n",
    "    for i in range(1, n):\n",
    "        pass\n",
    "    end_time = time.time()\n",
    "    return end_time - start_time"
   ],
   "metadata": {
    "collapsed": false,
    "pycharm": {
     "name": "#%%\n"
    }
   }
  },
  {
   "cell_type": "code",
   "execution_count": null,
   "outputs": [],
   "source": [
    "natural_sum(n=10)"
   ],
   "metadata": {
    "collapsed": false,
    "pycharm": {
     "name": "#%%\n"
    }
   }
  },
  {
   "cell_type": "markdown",
   "source": [
    "## 3.번\n",
    "\n",
    "$n * n$ 코딩으로 변경\n"
   ],
   "metadata": {
    "collapsed": false,
    "pycharm": {
     "name": "#%% md\n"
    }
   }
  },
  {
   "cell_type": "code",
   "execution_count": null,
   "outputs": [],
   "source": [
    "def n_mul_n(n: int) -> int:\n",
    "    \"\"\" n * n 함수 \"\"\"\n",
    "    start_time = time.time()\n",
    "    for _ in range(n):\n",
    "        for _ in range(n):\n",
    "            pass\n",
    "    end_time = time.time()\n",
    "    return end_time - start_time"
   ],
   "metadata": {
    "collapsed": false,
    "pycharm": {
     "name": "#%%\n"
    }
   }
  },
  {
   "cell_type": "code",
   "execution_count": null,
   "outputs": [],
   "source": [
    "n_mul_n(n=10)"
   ],
   "metadata": {
    "collapsed": false,
    "pycharm": {
     "name": "#%%\n"
    }
   }
  },
  {
   "cell_type": "markdown",
   "source": [
    "## 테이블화"
   ],
   "metadata": {
    "collapsed": false,
    "pycharm": {
     "name": "#%% md\n"
    }
   }
  },
  {
   "cell_type": "code",
   "execution_count": null,
   "outputs": [],
   "source": [
    "import pandas as pd\n",
    "\n",
    "data = {}\n",
    "for i in range(1, 6):\n",
    "    if (n := 10 ** i) not in data.keys():\n",
    "        data[n] = [natural_sum(n), n_mul_n(n)]\n",
    "\n",
    "pd.DataFrame(data=data, index=[\"natural_sum\", \"n * n\"])"
   ],
   "metadata": {
    "collapsed": false,
    "pycharm": {
     "name": "#%%\n"
    }
   }
  }
 ],
 "metadata": {
  "kernelspec": {
   "display_name": "Python 3",
   "language": "python",
   "name": "python3"
  },
  "language_info": {
   "codemirror_mode": {
    "name": "ipython",
    "version": 2
   },
   "file_extension": ".py",
   "mimetype": "text/x-python",
   "name": "python",
   "nbconvert_exporter": "python",
   "pygments_lexer": "ipython2",
   "version": "2.7.6"
  }
 },
 "nbformat": 4,
 "nbformat_minor": 0
}