{
 "cells": [
  {
   "cell_type": "markdown",
   "source": [
    "# 게임개발\n",
    "\n",
    "현민이는 게임 캐릭터가 맵 안에서 움직이는 시스템을 개발 중이다. 캐릭터가 있는 장소는 1 X 1 크기의 정사각형으로 이뤄진 N X M 크기의 직사각형으로, 각각의 칸은 육지 또는 바다이다. 캐릭터는 동서남북 중 한 곳을 바라본다.\n",
    "\n",
    "맵의 각 칸은 (A, B)로 나타낼 수 있고, A는 북쪽으로부터 떨어진 칸의 개수, B는 서쪽으로부터 떨어진 칸의 개수이다. 캐릭터는 상하좌우로 움직일 수 있고, 바다로 되어 있는 공간에는 갈 수 없다. 캐릭터의 움직임을 설정하기 위해 정해 놓은 매뉴얼은 이러하다.\n",
    "\n",
    "현재 위치에서 현재 방향을 기준으로 왼쪽 방향(반시계 방향으로 90도 회전한 방향)부터 차례대로 갈 곳을 정한다.\n",
    "\n",
    "캐릭터의 바로 왼쪽 방향에 아직 가보지 않은 칸이 존재한다면, 왼쪽 방향으로 횐전한 다음 왼쪽으로 한 칸을 전진한다. 왼쪽 방향에 가보지 않은 칸이 없다면, 왼쪽 방향으로 회전만 수행하고 1단계로 돌아간다.\n",
    "\n",
    "만약 네 방향 모두 이미 가본 칸이거나 바다로 되어 있는 칸인 경우에는, 바라보는 방향을 유지한 채로 한 칸 뒤로 가고 1단계로 돌아간다. 단, 이때 뒤쪽 방향이 바다인 칸이라 뒤로 갈 수 없는 경우에는 움직임을 멈춘다.\n",
    "\n",
    "현민이는 위 과정을 반복적으로 수행하면서 캐릭터의 움직임에 이상이 있는지 테스트하려고 한다. 메뉴얼에 따라 캐릭터를 이동시킨 뒤에, 캐릭터가 방문한 칸의 수를 출력하는 프로그램을 만드시오.\n",
    "\n",
    "### input\n",
    "첫째 줄에 맵의 세로 크기 N과 가로 크기 M을 공백으로 구분하여 입력한다.\n",
    "(3 <= N, M <= 50)\n",
    "\n",
    "둘째 줄에 게임 캐릭터가 있는 칸의 좌표 (A, B)와 바라보는 방햔 d가 각각 서로 공백으로 구분하여 주어진다. 방향 d의 값으로는 다음과 같이 4가지가 존재한다.\n",
    "\n",
    "0 : 북쪽\n",
    "1 : 동쪽\n",
    "2 : 남쪽\n",
    "3 : 서쪽\n",
    "\n",
    "셋째 줄부터 맵이 육지인지 바다인지에 대한 정보가 주어진다. N개의 줄에 맵의 상태가 북쪽부터 남쪽 순서대로, 각 줄의 데이터는 서쪽부터 동쪽 순서대로 주어진다. 맵의 외각은 항상 바다로 되어 있다.\n",
    "\n",
    "0 : 육지\n",
    "1 : 바다\n",
    "처음에 게임 캐릭터가 위치한 칸의 상태는 항상 육지이다.\n",
    "\n",
    "### output\n",
    "첫째 줄에 이동을 마친 후 캐릭터가 방문한 칸의 수를 출력한다."
   ],
   "metadata": {
    "collapsed": false,
    "pycharm": {
     "name": "#%% md\n"
    }
   }
  },
  {
   "cell_type": "code",
   "execution_count": 41,
   "outputs": [
    {
     "name": "stdout",
     "output_type": "stream",
     "text": [
      "Test case creation complete!\n",
      "Test case creation complete!\n",
      "Test case creation complete!\n",
      "Test case creation complete!\n",
      "Test case creation complete!\n",
      "Test case creation complete!\n",
      "Test case creation complete!\n",
      "Test case creation complete!\n",
      "Test case creation complete!\n",
      "Test case creation complete!\n",
      "Test case creation complete!\n",
      "Test case creation complete!\n",
      "Test case creation complete!\n",
      "Test case creation complete!\n",
      "Test case creation complete!\n",
      "Test case creation complete!\n",
      "Test case creation complete!\n",
      "Test case creation complete!\n",
      "Test case creation complete!\n",
      "Test case creation complete!\n"
     ]
    }
   ],
   "source": [
    "from time import sleep\n",
    "import random\n",
    "import uuid\n",
    "from datetime import datetime\n",
    "\n",
    "\n",
    "def make_test_case() -> str:\n",
    "    \"\"\" 테스트 케이스 생성기 \"\"\"\n",
    "    MIN_N, MAX_N = 3, 50\n",
    "    MIN_M, MAX_M = 3, 50\n",
    "    DIRECTION_TYPES = 4\n",
    "\n",
    "    N = random.randrange(MIN_N, MAX_N + 1)\n",
    "    M = random.randrange(MIN_M, MAX_N + 1)\n",
    "    DIRECTION = random.randrange(0, DIRECTION_TYPES)\n",
    "\n",
    "    start_list = []\n",
    "    BOARD = []\n",
    "    for row in range(N):\n",
    "        tmp_row = []\n",
    "        for col in range(M):\n",
    "            map_status = random.randrange(0, 1 + 1)\n",
    "            if map_status:\n",
    "                start_list.append((row, col))\n",
    "            tmp_row.append(map_status)\n",
    "        BOARD.append(tmp_row)\n",
    "\n",
    "    START_ROW, START_COL = random.choice(start_list)\n",
    "\n",
    "    text = (\n",
    "               f\"{' '.join(map(str, [N, M]))}\\n\"\n",
    "               f\"{' '.join(map(str, [START_ROW, START_COL]))} {DIRECTION}\\n\"\n",
    "           ) + ''.join([f\"{' '.join(map(str, row))}\\n\" for row in BOARD])\n",
    "\n",
    "    with open(file=f\"./test/{uuid.uuid4()}.txt\", mode='w', encoding=\"utf-8\") as f:\n",
    "        f.write(text)\n",
    "\n",
    "    print(\"Test case creation complete!\")\n",
    "\n",
    "\n",
    "\n",
    "# make_test_case()\n",
    "# 에러를 발생하는 렌덤 케이스가 있어서 실행안함"
   ],
   "metadata": {
    "collapsed": false,
    "pycharm": {
     "name": "#%%\n"
    }
   }
  },
  {
   "cell_type": "code",
   "execution_count": 46,
   "outputs": [],
   "source": [
    "import _io\n",
    "from algorithm_util import time_check\n",
    "\n",
    "\n",
    "@time_check\n",
    "def solution_0(test: _io.TextIOWrapper) -> int:\n",
    "    \"\"\" 풀이 정답 \"\"\"\n",
    "    SEA = 0\n",
    "    GROUND = 1\n",
    "    TURN = 4\n",
    "    MOVE = [\n",
    "        (-1, 0),  # 북\n",
    "        (0, 1),  # 동\n",
    "        (1, 0),  # 남\n",
    "        (0, -1),  # 서\n",
    "    ]\n",
    "\n",
    "    BACK = [\n",
    "        (1, 0),  # 남\n",
    "        (0, -1),  # 서\n",
    "        (-1, 0),  # 북\n",
    "        (0, 1),  # 동\n",
    "    ]\n",
    "\n",
    "    CHANGE_DIRECTIONS = {\n",
    "        0: 3,  # 북 > 서\n",
    "        3: 2,  # 서 > 남\n",
    "        2: 1,  # 남 > 동\n",
    "        1: 0,  # 동 > 북\n",
    "    }\n",
    "\n",
    "    ROW, COL = map(int, test.readline().split())\n",
    "    crow, ccol, cdirection = map(int, test.readline().split())\n",
    "    board = [list(map(int, test.readline().split())) for _ in range(ROW)]\n",
    "    visited = [[False] * COL for _ in range(ROW)]\n",
    "\n",
    "    answer = 1\n",
    "    while True:\n",
    "\n",
    "        can_go = False\n",
    "        visited[crow][ccol] = True\n",
    "        for _ in range(TURN):\n",
    "            cdirection = CHANGE_DIRECTIONS[cdirection]\n",
    "            trow, tcol = MOVE[cdirection]\n",
    "            nrow, ncol = trow + crow, tcol + ccol\n",
    "            if not (0 <= nrow < ROW and 0 <= ncol < COL):\n",
    "                continue\n",
    "            if board[nrow][ncol]:\n",
    "                continue\n",
    "            if visited[nrow][ncol]:\n",
    "                continue\n",
    "            answer += 1\n",
    "            can_go = True\n",
    "            crow, ccol = nrow, ncol\n",
    "            break\n",
    "\n",
    "        if not can_go:  # 갈 수 없으면\n",
    "            trow, tcol = BACK[cdirection]\n",
    "            nrow, ncol = trow + crow, tcol + ccol\n",
    "            if not (0 <= nrow < ROW and 0 <= ncol < COL):\n",
    "                break\n",
    "            if board[nrow][ncol]:\n",
    "                break\n",
    "            crow, ccol = nrow, ncol\n",
    "\n",
    "    return answer"
   ],
   "metadata": {
    "collapsed": false,
    "pycharm": {
     "name": "#%%\n"
    }
   }
  },
  {
   "cell_type": "code",
   "execution_count": 47,
   "outputs": [
    {
     "data": {
      "text/plain": "  solution_n  time  result     test_file_path\n0    ansmwer   0.0       3  test\\original.txt\n1          1   0.0       3  test\\original.txt",
      "text/html": "<div>\n<style scoped>\n    .dataframe tbody tr th:only-of-type {\n        vertical-align: middle;\n    }\n\n    .dataframe tbody tr th {\n        vertical-align: top;\n    }\n\n    .dataframe thead th {\n        text-align: right;\n    }\n</style>\n<table border=\"1\" class=\"dataframe\">\n  <thead>\n    <tr style=\"text-align: right;\">\n      <th></th>\n      <th>solution_n</th>\n      <th>time</th>\n      <th>result</th>\n      <th>test_file_path</th>\n    </tr>\n  </thead>\n  <tbody>\n    <tr>\n      <th>0</th>\n      <td>ansmwer</td>\n      <td>0.0</td>\n      <td>3</td>\n      <td>test\\original.txt</td>\n    </tr>\n    <tr>\n      <th>1</th>\n      <td>1</td>\n      <td>0.0</td>\n      <td>3</td>\n      <td>test\\original.txt</td>\n    </tr>\n  </tbody>\n</table>\n</div>"
     },
     "execution_count": 47,
     "metadata": {},
     "output_type": "execute_result"
    }
   ],
   "source": [
    "from algorithm_util import result_df\n",
    "\n",
    "solutions = [\n",
    "    answer,\n",
    "    solution_0,\n",
    "]\n",
    "\n",
    "result_df(solutions)"
   ],
   "metadata": {
    "collapsed": false,
    "pycharm": {
     "name": "#%%\n"
    }
   }
  },
  {
   "cell_type": "code",
   "execution_count": null,
   "outputs": [],
   "source": [],
   "metadata": {
    "collapsed": false,
    "pycharm": {
     "name": "#%%\n"
    }
   }
  }
 ],
 "metadata": {
  "kernelspec": {
   "display_name": "Python 3",
   "language": "python",
   "name": "python3"
  },
  "language_info": {
   "codemirror_mode": {
    "name": "ipython",
    "version": 2
   },
   "file_extension": ".py",
   "mimetype": "text/x-python",
   "name": "python",
   "nbconvert_exporter": "python",
   "pygments_lexer": "ipython2",
   "version": "2.7.6"
  }
 },
 "nbformat": 4,
 "nbformat_minor": 0
}