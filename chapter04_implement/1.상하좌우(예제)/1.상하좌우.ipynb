{
 "cells": [
  {
   "cell_type": "markdown",
   "source": [
    "# 상하좌우\n",
    "\n",
    "### input\n",
    "- 첫째 줄에 공간의 크기를 나타내는 N이 주어진다.\n",
    "    - ( 1 <= N <= 100 )\n",
    "- 둘째 줄에 여항가 A가 이동할 계획서 내용이 주어진다.\n",
    "    - ( 1 <= 이동 횟수 <= 100 )\n",
    "### output\n",
    "- 첫째 줄에 여항가 A가 최종적으로 도착할 지점의 좌표 (X, Y)를 공백으로 구분하여 출력한다."
   ],
   "metadata": {
    "collapsed": false,
    "pycharm": {
     "name": "#%% md\n"
    }
   }
  },
  {
   "cell_type": "code",
   "execution_count": 1,
   "outputs": [
    {
     "name": "stdout",
     "output_type": "stream",
     "text": [
      "Test case creation complete!\n",
      "Test case creation complete!\n",
      "Test case creation complete!\n",
      "Test case creation complete!\n",
      "Test case creation complete!\n",
      "Test case creation complete!\n",
      "Test case creation complete!\n",
      "Test case creation complete!\n",
      "Test case creation complete!\n",
      "Test case creation complete!\n"
     ]
    }
   ],
   "source": [
    "from time import sleep\n",
    "import random\n",
    "from datetime import datetime\n",
    "\n",
    "\n",
    "def make_test_case() -> str:\n",
    "    \"\"\" 테스트 케이스 생성기 \"\"\"\n",
    "    MIN_N, MAX_N = 1, 100\n",
    "    direction = [\"L\", \"R\", \"U\", \"D\"]\n",
    "    N = random.randrange(MIN_N, MAX_N + 1)\n",
    "\n",
    "    text = (\n",
    "        f\"{' '.join(map(str, [N]))}\\n\"\n",
    "        f\"{' '.join([direction[random.randrange(0, len(direction))] for _ in range(N)])}\"\n",
    "    )\n",
    "\n",
    "    now = datetime.now().strftime(\"%Y-%m-%d_%H-%M-%S\")\n",
    "\n",
    "    with open(file=f\"./test/{now}.txt\", mode='w', encoding=\"utf-8\") as f:\n",
    "        f.write(text)\n",
    "\n",
    "    print(\"Test case creation complete!\")\n",
    "\n",
    "\n",
    "for _ in range(10):\n",
    "    make_test_case()\n",
    "    sleep(1)"
   ],
   "metadata": {
    "collapsed": false,
    "pycharm": {
     "name": "#%%\n"
    }
   }
  },
  {
   "cell_type": "code",
   "execution_count": 1,
   "outputs": [],
   "source": [
    "import _io\n",
    "from algorithm_util import time_check\n",
    "\n",
    "\n",
    "@time_check\n",
    "def answer(test: _io.TextIOWrapper) -> int:\n",
    "    n = int(test.readline())\n",
    "    x, y = 1, 1\n",
    "    plans = test.readline().split()\n",
    "\n",
    "    # L, R, U, D에 따른 이동 방향\n",
    "    dx = [0, 0, -1, 1]\n",
    "    dy = [-1, 1, 0, 0]\n",
    "    move_types = ['L', 'R', 'U', 'D']\n",
    "\n",
    "    # 이동 계획을 하나씩 확인\n",
    "    for plan in plans:\n",
    "        # 이동 후 좌표 구하기\n",
    "        for i in range(len(move_types)):\n",
    "            if plan == move_types[i]:\n",
    "                nx = x + dx[i]\n",
    "                ny = y + dy[i]\n",
    "        # 공간을 벗어나는 경우 무시\n",
    "        if nx < 1 or ny < 1 or nx > n or ny > n:\n",
    "            continue\n",
    "        # 이동 수행\n",
    "        x, y = nx, ny\n",
    "    return x, y\n",
    "\n",
    "\n",
    "@time_check\n",
    "def solution_0(test: _io.TextIOWrapper) -> int:\n",
    "    \"\"\" 풀이 정답 \"\"\"\n",
    "    n = int(test.readline())\n",
    "    directions = list(test.readline().split())\n",
    "    position = (1, 1)\n",
    "    DIRECTIONS = {\n",
    "        \"U\": (-1, 0),\n",
    "        \"R\": (0, 1),\n",
    "        \"D\": (1, 0),\n",
    "        \"L\": (0, -1)\n",
    "    }\n",
    "\n",
    "    for direction in directions:\n",
    "        trow, tcol = DIRECTIONS[direction]\n",
    "        crow, ccol = position\n",
    "        nrow, ncol = trow + crow, tcol + ccol\n",
    "        if not (1 <= nrow <= n and 1 <= ncol <= n):\n",
    "            continue\n",
    "        position = (nrow, ncol)\n",
    "\n",
    "    return position"
   ],
   "metadata": {
    "collapsed": false,
    "pycharm": {
     "name": "#%%\n"
    }
   }
  },
  {
   "cell_type": "code",
   "execution_count": 3,
   "outputs": [
    {
     "data": {
      "text/plain": "   solution_n      time   result                test_file_path\n0      answer  0.000000   (1, 2)  test\\2022-09-15_09-13-49.txt\n1           1  0.000000   (1, 2)  test\\2022-09-15_09-13-49.txt\n2      answer  0.000000   (3, 2)  test\\2022-09-15_09-13-50.txt\n3           1  0.000000   (3, 2)  test\\2022-09-15_09-13-50.txt\n4      answer  0.000000   (1, 5)  test\\2022-09-15_09-13-51.txt\n5           1  0.000000   (1, 5)  test\\2022-09-15_09-13-51.txt\n6      answer  0.000000  (2, 16)  test\\2022-09-15_09-13-52.txt\n7           1  0.000000  (2, 16)  test\\2022-09-15_09-13-52.txt\n8      answer  0.000000   (2, 5)  test\\2022-09-15_09-13-53.txt\n9           1  0.000000   (2, 5)  test\\2022-09-15_09-13-53.txt\n10     answer  0.000000   (1, 1)  test\\2022-09-15_09-13-54.txt\n11          1  0.000000   (1, 1)  test\\2022-09-15_09-13-54.txt\n12     answer  0.000000   (1, 2)  test\\2022-09-15_09-13-55.txt\n13          1  0.000000   (1, 2)  test\\2022-09-15_09-13-55.txt\n14     answer  0.000000   (5, 2)  test\\2022-09-15_09-13-56.txt\n15          1  0.000000   (5, 2)  test\\2022-09-15_09-13-56.txt\n16     answer  0.000000   (1, 6)  test\\2022-09-15_09-13-57.txt\n17          1  0.000000   (1, 6)  test\\2022-09-15_09-13-57.txt\n18     answer  0.000000   (2, 1)  test\\2022-09-15_09-13-58.txt\n19          1  0.000000   (2, 1)  test\\2022-09-15_09-13-58.txt\n20     answer  0.000000   (1, 8)  test\\2022-09-15_21-24-05.txt\n21          1  0.000000   (1, 8)  test\\2022-09-15_21-24-05.txt\n22     answer  0.000000   (6, 7)  test\\2022-09-15_21-24-06.txt\n23          1  0.000000   (6, 7)  test\\2022-09-15_21-24-06.txt\n24     answer  0.000000   (3, 2)  test\\2022-09-15_21-24-07.txt\n25          1  0.000000   (3, 2)  test\\2022-09-15_21-24-07.txt\n26     answer  0.000998   (8, 3)  test\\2022-09-15_21-24-08.txt\n27          1  0.000000   (8, 3)  test\\2022-09-15_21-24-08.txt\n28     answer  0.000000   (2, 5)  test\\2022-09-15_21-24-09.txt\n29          1  0.000000   (2, 5)  test\\2022-09-15_21-24-09.txt\n30     answer  0.000000   (5, 3)  test\\2022-09-15_21-24-10.txt\n31          1  0.000000   (5, 3)  test\\2022-09-15_21-24-10.txt\n32     answer  0.000000   (4, 3)  test\\2022-09-15_21-24-11.txt\n33          1  0.000000   (4, 3)  test\\2022-09-15_21-24-11.txt\n34     answer  0.000000   (1, 3)  test\\2022-09-15_21-24-12.txt\n35          1  0.000000   (1, 3)  test\\2022-09-15_21-24-12.txt\n36     answer  0.000000   (1, 1)  test\\2022-09-15_21-24-13.txt\n37          1  0.000000   (1, 1)  test\\2022-09-15_21-24-13.txt\n38     answer  0.000000   (1, 1)  test\\2022-09-15_21-24-14.txt\n39          1  0.000000   (1, 1)  test\\2022-09-15_21-24-14.txt\n40     answer  0.000000   (3, 4)             test\\original.txt\n41          1  0.000000   (3, 4)             test\\original.txt",
      "text/html": "<div>\n<style scoped>\n    .dataframe tbody tr th:only-of-type {\n        vertical-align: middle;\n    }\n\n    .dataframe tbody tr th {\n        vertical-align: top;\n    }\n\n    .dataframe thead th {\n        text-align: right;\n    }\n</style>\n<table border=\"1\" class=\"dataframe\">\n  <thead>\n    <tr style=\"text-align: right;\">\n      <th></th>\n      <th>solution_n</th>\n      <th>time</th>\n      <th>result</th>\n      <th>test_file_path</th>\n    </tr>\n  </thead>\n  <tbody>\n    <tr>\n      <th>0</th>\n      <td>answer</td>\n      <td>0.000000</td>\n      <td>(1, 2)</td>\n      <td>test\\2022-09-15_09-13-49.txt</td>\n    </tr>\n    <tr>\n      <th>1</th>\n      <td>1</td>\n      <td>0.000000</td>\n      <td>(1, 2)</td>\n      <td>test\\2022-09-15_09-13-49.txt</td>\n    </tr>\n    <tr>\n      <th>2</th>\n      <td>answer</td>\n      <td>0.000000</td>\n      <td>(3, 2)</td>\n      <td>test\\2022-09-15_09-13-50.txt</td>\n    </tr>\n    <tr>\n      <th>3</th>\n      <td>1</td>\n      <td>0.000000</td>\n      <td>(3, 2)</td>\n      <td>test\\2022-09-15_09-13-50.txt</td>\n    </tr>\n    <tr>\n      <th>4</th>\n      <td>answer</td>\n      <td>0.000000</td>\n      <td>(1, 5)</td>\n      <td>test\\2022-09-15_09-13-51.txt</td>\n    </tr>\n    <tr>\n      <th>5</th>\n      <td>1</td>\n      <td>0.000000</td>\n      <td>(1, 5)</td>\n      <td>test\\2022-09-15_09-13-51.txt</td>\n    </tr>\n    <tr>\n      <th>6</th>\n      <td>answer</td>\n      <td>0.000000</td>\n      <td>(2, 16)</td>\n      <td>test\\2022-09-15_09-13-52.txt</td>\n    </tr>\n    <tr>\n      <th>7</th>\n      <td>1</td>\n      <td>0.000000</td>\n      <td>(2, 16)</td>\n      <td>test\\2022-09-15_09-13-52.txt</td>\n    </tr>\n    <tr>\n      <th>8</th>\n      <td>answer</td>\n      <td>0.000000</td>\n      <td>(2, 5)</td>\n      <td>test\\2022-09-15_09-13-53.txt</td>\n    </tr>\n    <tr>\n      <th>9</th>\n      <td>1</td>\n      <td>0.000000</td>\n      <td>(2, 5)</td>\n      <td>test\\2022-09-15_09-13-53.txt</td>\n    </tr>\n    <tr>\n      <th>10</th>\n      <td>answer</td>\n      <td>0.000000</td>\n      <td>(1, 1)</td>\n      <td>test\\2022-09-15_09-13-54.txt</td>\n    </tr>\n    <tr>\n      <th>11</th>\n      <td>1</td>\n      <td>0.000000</td>\n      <td>(1, 1)</td>\n      <td>test\\2022-09-15_09-13-54.txt</td>\n    </tr>\n    <tr>\n      <th>12</th>\n      <td>answer</td>\n      <td>0.000000</td>\n      <td>(1, 2)</td>\n      <td>test\\2022-09-15_09-13-55.txt</td>\n    </tr>\n    <tr>\n      <th>13</th>\n      <td>1</td>\n      <td>0.000000</td>\n      <td>(1, 2)</td>\n      <td>test\\2022-09-15_09-13-55.txt</td>\n    </tr>\n    <tr>\n      <th>14</th>\n      <td>answer</td>\n      <td>0.000000</td>\n      <td>(5, 2)</td>\n      <td>test\\2022-09-15_09-13-56.txt</td>\n    </tr>\n    <tr>\n      <th>15</th>\n      <td>1</td>\n      <td>0.000000</td>\n      <td>(5, 2)</td>\n      <td>test\\2022-09-15_09-13-56.txt</td>\n    </tr>\n    <tr>\n      <th>16</th>\n      <td>answer</td>\n      <td>0.000000</td>\n      <td>(1, 6)</td>\n      <td>test\\2022-09-15_09-13-57.txt</td>\n    </tr>\n    <tr>\n      <th>17</th>\n      <td>1</td>\n      <td>0.000000</td>\n      <td>(1, 6)</td>\n      <td>test\\2022-09-15_09-13-57.txt</td>\n    </tr>\n    <tr>\n      <th>18</th>\n      <td>answer</td>\n      <td>0.000000</td>\n      <td>(2, 1)</td>\n      <td>test\\2022-09-15_09-13-58.txt</td>\n    </tr>\n    <tr>\n      <th>19</th>\n      <td>1</td>\n      <td>0.000000</td>\n      <td>(2, 1)</td>\n      <td>test\\2022-09-15_09-13-58.txt</td>\n    </tr>\n    <tr>\n      <th>20</th>\n      <td>answer</td>\n      <td>0.000000</td>\n      <td>(1, 8)</td>\n      <td>test\\2022-09-15_21-24-05.txt</td>\n    </tr>\n    <tr>\n      <th>21</th>\n      <td>1</td>\n      <td>0.000000</td>\n      <td>(1, 8)</td>\n      <td>test\\2022-09-15_21-24-05.txt</td>\n    </tr>\n    <tr>\n      <th>22</th>\n      <td>answer</td>\n      <td>0.000000</td>\n      <td>(6, 7)</td>\n      <td>test\\2022-09-15_21-24-06.txt</td>\n    </tr>\n    <tr>\n      <th>23</th>\n      <td>1</td>\n      <td>0.000000</td>\n      <td>(6, 7)</td>\n      <td>test\\2022-09-15_21-24-06.txt</td>\n    </tr>\n    <tr>\n      <th>24</th>\n      <td>answer</td>\n      <td>0.000000</td>\n      <td>(3, 2)</td>\n      <td>test\\2022-09-15_21-24-07.txt</td>\n    </tr>\n    <tr>\n      <th>25</th>\n      <td>1</td>\n      <td>0.000000</td>\n      <td>(3, 2)</td>\n      <td>test\\2022-09-15_21-24-07.txt</td>\n    </tr>\n    <tr>\n      <th>26</th>\n      <td>answer</td>\n      <td>0.000998</td>\n      <td>(8, 3)</td>\n      <td>test\\2022-09-15_21-24-08.txt</td>\n    </tr>\n    <tr>\n      <th>27</th>\n      <td>1</td>\n      <td>0.000000</td>\n      <td>(8, 3)</td>\n      <td>test\\2022-09-15_21-24-08.txt</td>\n    </tr>\n    <tr>\n      <th>28</th>\n      <td>answer</td>\n      <td>0.000000</td>\n      <td>(2, 5)</td>\n      <td>test\\2022-09-15_21-24-09.txt</td>\n    </tr>\n    <tr>\n      <th>29</th>\n      <td>1</td>\n      <td>0.000000</td>\n      <td>(2, 5)</td>\n      <td>test\\2022-09-15_21-24-09.txt</td>\n    </tr>\n    <tr>\n      <th>30</th>\n      <td>answer</td>\n      <td>0.000000</td>\n      <td>(5, 3)</td>\n      <td>test\\2022-09-15_21-24-10.txt</td>\n    </tr>\n    <tr>\n      <th>31</th>\n      <td>1</td>\n      <td>0.000000</td>\n      <td>(5, 3)</td>\n      <td>test\\2022-09-15_21-24-10.txt</td>\n    </tr>\n    <tr>\n      <th>32</th>\n      <td>answer</td>\n      <td>0.000000</td>\n      <td>(4, 3)</td>\n      <td>test\\2022-09-15_21-24-11.txt</td>\n    </tr>\n    <tr>\n      <th>33</th>\n      <td>1</td>\n      <td>0.000000</td>\n      <td>(4, 3)</td>\n      <td>test\\2022-09-15_21-24-11.txt</td>\n    </tr>\n    <tr>\n      <th>34</th>\n      <td>answer</td>\n      <td>0.000000</td>\n      <td>(1, 3)</td>\n      <td>test\\2022-09-15_21-24-12.txt</td>\n    </tr>\n    <tr>\n      <th>35</th>\n      <td>1</td>\n      <td>0.000000</td>\n      <td>(1, 3)</td>\n      <td>test\\2022-09-15_21-24-12.txt</td>\n    </tr>\n    <tr>\n      <th>36</th>\n      <td>answer</td>\n      <td>0.000000</td>\n      <td>(1, 1)</td>\n      <td>test\\2022-09-15_21-24-13.txt</td>\n    </tr>\n    <tr>\n      <th>37</th>\n      <td>1</td>\n      <td>0.000000</td>\n      <td>(1, 1)</td>\n      <td>test\\2022-09-15_21-24-13.txt</td>\n    </tr>\n    <tr>\n      <th>38</th>\n      <td>answer</td>\n      <td>0.000000</td>\n      <td>(1, 1)</td>\n      <td>test\\2022-09-15_21-24-14.txt</td>\n    </tr>\n    <tr>\n      <th>39</th>\n      <td>1</td>\n      <td>0.000000</td>\n      <td>(1, 1)</td>\n      <td>test\\2022-09-15_21-24-14.txt</td>\n    </tr>\n    <tr>\n      <th>40</th>\n      <td>answer</td>\n      <td>0.000000</td>\n      <td>(3, 4)</td>\n      <td>test\\original.txt</td>\n    </tr>\n    <tr>\n      <th>41</th>\n      <td>1</td>\n      <td>0.000000</td>\n      <td>(3, 4)</td>\n      <td>test\\original.txt</td>\n    </tr>\n  </tbody>\n</table>\n</div>"
     },
     "execution_count": 3,
     "metadata": {},
     "output_type": "execute_result"
    }
   ],
   "source": [
    "from algorithm_util import result_df\n",
    "\n",
    "solutions = [\n",
    "    answer,\n",
    "    solution_0,\n",
    "]\n",
    "\n",
    "result_df(solutions)"
   ],
   "metadata": {
    "collapsed": false,
    "pycharm": {
     "name": "#%%\n"
    }
   }
  },
  {
   "cell_type": "code",
   "execution_count": null,
   "outputs": [],
   "source": [],
   "metadata": {
    "collapsed": false,
    "pycharm": {
     "name": "#%%\n"
    }
   }
  }
 ],
 "metadata": {
  "kernelspec": {
   "display_name": "Python 3",
   "language": "python",
   "name": "python3"
  },
  "language_info": {
   "codemirror_mode": {
    "name": "ipython",
    "version": 2
   },
   "file_extension": ".py",
   "mimetype": "text/x-python",
   "name": "python",
   "nbconvert_exporter": "python",
   "pygments_lexer": "ipython2",
   "version": "2.7.6"
  }
 },
 "nbformat": 4,
 "nbformat_minor": 0
}