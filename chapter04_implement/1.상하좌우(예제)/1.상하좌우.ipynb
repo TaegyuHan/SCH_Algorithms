{
 "cells": [
  {
   "cell_type": "markdown",
   "source": [
    "# 상하좌우\n",
    "\n",
    "### input\n",
    "- 첫째 줄에 공간의 크기를 나타내는 N이 주어진다.\n",
    "    - ( 1 <= N <= 100 )\n",
    "- 둘째 줄에 여항가 A가 이동할 계획서 내용이 주어진다.\n",
    "    - ( 1 <= 이동 횟수 <= 100 )\n",
    "### output\n",
    "- 첫째 줄에 여항가 A가 최종적으로 도착할 지점의 좌표 (X, Y)를 공백으로 구분하여 출력한다."
   ],
   "metadata": {
    "collapsed": false,
    "pycharm": {
     "name": "#%% md\n"
    }
   }
  },
  {
   "cell_type": "code",
   "execution_count": 2,
   "outputs": [
    {
     "name": "stdout",
     "output_type": "stream",
     "text": [
      "Test case creation complete!\n",
      "Test case creation complete!\n",
      "Test case creation complete!\n",
      "Test case creation complete!\n",
      "Test case creation complete!\n",
      "Test case creation complete!\n",
      "Test case creation complete!\n",
      "Test case creation complete!\n",
      "Test case creation complete!\n",
      "Test case creation complete!\n"
     ]
    }
   ],
   "source": [
    "from time import sleep\n",
    "import random\n",
    "from datetime import datetime\n",
    "\n",
    "\n",
    "def make_test_case() -> str:\n",
    "    \"\"\" 테스트 케이스 생성기 \"\"\"\n",
    "    MIN_N, MAX_N = 1, 100\n",
    "    direction = [\"L\", \"R\", \"U\", \"D\"]\n",
    "    N = random.randrange(MIN_N, MAX_N + 1)\n",
    "\n",
    "    text = (\n",
    "        f\"{' '.join(map(str, [N]))}\\n\"\n",
    "        f\"{' '.join([direction[random.randrange(0, len(direction))] for _ in range(N)])}\"\n",
    "    )\n",
    "\n",
    "    now = datetime.now().strftime(\"%Y-%m-%d_%H-%M-%S\")\n",
    "\n",
    "    with open(file=f\"./test/{now}.txt\", mode='w', encoding=\"utf-8\") as f:\n",
    "        f.write(text)\n",
    "\n",
    "    print(\"Test case creation complete!\")\n",
    "\n",
    "\n",
    "for _ in range(10):\n",
    "    make_test_case()\n",
    "    sleep(1)"
   ],
   "metadata": {
    "collapsed": false,
    "pycharm": {
     "name": "#%%\n"
    }
   }
  },
  {
   "cell_type": "code",
   "execution_count": 23,
   "outputs": [],
   "source": [
    "import _io\n",
    "from algorithm_util import time_check\n",
    "\n",
    "\n",
    "@time_check\n",
    "def solution_0(test: _io.TextIOWrapper) -> int:\n",
    "    \"\"\" 풀이 정답 \"\"\"\n",
    "    n = int(test.readline())\n",
    "    directions = list(test.readline().split())\n",
    "    position = (1, 1)\n",
    "    DIRECTIONS = {\n",
    "        \"U\": (-1, 0),\n",
    "        \"R\": (0, 1),\n",
    "        \"D\": (1, 0),\n",
    "        \"L\": (0, -1)\n",
    "    }\n",
    "\n",
    "    for direction in directions:\n",
    "        trow, tcol = DIRECTIONS[direction]\n",
    "        crow, ccol = position\n",
    "        nrow, ncol = trow + crow, tcol + ccol\n",
    "        if not (1 <= nrow <= n and 1 <= ncol <= n):\n",
    "            continue\n",
    "        position = (nrow, ncol)\n",
    "\n",
    "    return position"
   ],
   "metadata": {
    "collapsed": false,
    "pycharm": {
     "name": "#%%\n"
    }
   }
  },
  {
   "cell_type": "code",
   "execution_count": 24,
   "outputs": [
    {
     "data": {
      "text/plain": "   solution_n  time   result                test_file_path\n0     ansmwer   0.0   (1, 2)  test\\2022-09-15_09-13-49.txt\n1     ansmwer   0.0   (3, 2)  test\\2022-09-15_09-13-50.txt\n2     ansmwer   0.0   (1, 5)  test\\2022-09-15_09-13-51.txt\n3     ansmwer   0.0  (2, 16)  test\\2022-09-15_09-13-52.txt\n4     ansmwer   0.0   (2, 5)  test\\2022-09-15_09-13-53.txt\n5     ansmwer   0.0   (1, 1)  test\\2022-09-15_09-13-54.txt\n6     ansmwer   0.0   (1, 2)  test\\2022-09-15_09-13-55.txt\n7     ansmwer   0.0   (5, 2)  test\\2022-09-15_09-13-56.txt\n8     ansmwer   0.0   (1, 6)  test\\2022-09-15_09-13-57.txt\n9     ansmwer   0.0   (2, 1)  test\\2022-09-15_09-13-58.txt\n10    ansmwer   0.0   (3, 4)             test\\original.txt",
      "text/html": "<div>\n<style scoped>\n    .dataframe tbody tr th:only-of-type {\n        vertical-align: middle;\n    }\n\n    .dataframe tbody tr th {\n        vertical-align: top;\n    }\n\n    .dataframe thead th {\n        text-align: right;\n    }\n</style>\n<table border=\"1\" class=\"dataframe\">\n  <thead>\n    <tr style=\"text-align: right;\">\n      <th></th>\n      <th>solution_n</th>\n      <th>time</th>\n      <th>result</th>\n      <th>test_file_path</th>\n    </tr>\n  </thead>\n  <tbody>\n    <tr>\n      <th>0</th>\n      <td>ansmwer</td>\n      <td>0.0</td>\n      <td>(1, 2)</td>\n      <td>test\\2022-09-15_09-13-49.txt</td>\n    </tr>\n    <tr>\n      <th>1</th>\n      <td>ansmwer</td>\n      <td>0.0</td>\n      <td>(3, 2)</td>\n      <td>test\\2022-09-15_09-13-50.txt</td>\n    </tr>\n    <tr>\n      <th>2</th>\n      <td>ansmwer</td>\n      <td>0.0</td>\n      <td>(1, 5)</td>\n      <td>test\\2022-09-15_09-13-51.txt</td>\n    </tr>\n    <tr>\n      <th>3</th>\n      <td>ansmwer</td>\n      <td>0.0</td>\n      <td>(2, 16)</td>\n      <td>test\\2022-09-15_09-13-52.txt</td>\n    </tr>\n    <tr>\n      <th>4</th>\n      <td>ansmwer</td>\n      <td>0.0</td>\n      <td>(2, 5)</td>\n      <td>test\\2022-09-15_09-13-53.txt</td>\n    </tr>\n    <tr>\n      <th>5</th>\n      <td>ansmwer</td>\n      <td>0.0</td>\n      <td>(1, 1)</td>\n      <td>test\\2022-09-15_09-13-54.txt</td>\n    </tr>\n    <tr>\n      <th>6</th>\n      <td>ansmwer</td>\n      <td>0.0</td>\n      <td>(1, 2)</td>\n      <td>test\\2022-09-15_09-13-55.txt</td>\n    </tr>\n    <tr>\n      <th>7</th>\n      <td>ansmwer</td>\n      <td>0.0</td>\n      <td>(5, 2)</td>\n      <td>test\\2022-09-15_09-13-56.txt</td>\n    </tr>\n    <tr>\n      <th>8</th>\n      <td>ansmwer</td>\n      <td>0.0</td>\n      <td>(1, 6)</td>\n      <td>test\\2022-09-15_09-13-57.txt</td>\n    </tr>\n    <tr>\n      <th>9</th>\n      <td>ansmwer</td>\n      <td>0.0</td>\n      <td>(2, 1)</td>\n      <td>test\\2022-09-15_09-13-58.txt</td>\n    </tr>\n    <tr>\n      <th>10</th>\n      <td>ansmwer</td>\n      <td>0.0</td>\n      <td>(3, 4)</td>\n      <td>test\\original.txt</td>\n    </tr>\n  </tbody>\n</table>\n</div>"
     },
     "execution_count": 24,
     "metadata": {},
     "output_type": "execute_result"
    }
   ],
   "source": [
    "from algorithm_util import result_df\n",
    "\n",
    "solutions = [\n",
    "    solution_0,\n",
    "]\n",
    "\n",
    "result_df(solutions)"
   ],
   "metadata": {
    "collapsed": false,
    "pycharm": {
     "name": "#%%\n"
    }
   }
  },
  {
   "cell_type": "code",
   "execution_count": null,
   "outputs": [],
   "source": [],
   "metadata": {
    "collapsed": false,
    "pycharm": {
     "name": "#%%\n"
    }
   }
  }
 ],
 "metadata": {
  "kernelspec": {
   "display_name": "Python 3",
   "language": "python",
   "name": "python3"
  },
  "language_info": {
   "codemirror_mode": {
    "name": "ipython",
    "version": 2
   },
   "file_extension": ".py",
   "mimetype": "text/x-python",
   "name": "python",
   "nbconvert_exporter": "python",
   "pygments_lexer": "ipython2",
   "version": "2.7.6"
  }
 },
 "nbformat": 4,
 "nbformat_minor": 0
}