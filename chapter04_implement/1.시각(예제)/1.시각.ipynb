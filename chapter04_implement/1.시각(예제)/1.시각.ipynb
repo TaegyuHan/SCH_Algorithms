{
 "cells": [
  {
   "cell_type": "markdown",
   "source": [
    "# 시각\n",
    "\n",
    "### input\n",
    "- 첫째 줄에 정수 N이 입력된다.\n",
    "    - ( 0 <= N <= 23 )\n",
    "\n",
    "### output\n",
    "- 00시 00분 00초부터 N시 59분 59초까지의 모든 시각 중에서 3이 하나라도 포함되는 모든 경우의 수를 출력한다."
   ],
   "metadata": {
    "collapsed": false,
    "pycharm": {
     "name": "#%% md\n"
    }
   }
  },
  {
   "cell_type": "code",
   "execution_count": 1,
   "outputs": [
    {
     "name": "stdout",
     "output_type": "stream",
     "text": [
      "Test case creation complete!\n",
      "Test case creation complete!\n",
      "Test case creation complete!\n",
      "Test case creation complete!\n",
      "Test case creation complete!\n",
      "Test case creation complete!\n",
      "Test case creation complete!\n",
      "Test case creation complete!\n",
      "Test case creation complete!\n",
      "Test case creation complete!\n"
     ]
    }
   ],
   "source": [
    "from time import sleep\n",
    "import random\n",
    "from datetime import datetime\n",
    "\n",
    "\n",
    "def make_test_case() -> str:\n",
    "    \"\"\" 테스트 케이스 생성기 \"\"\"\n",
    "    MIN_N, MAX_N = 0, 23\n",
    "    N = random.randrange(MIN_N, MAX_N + 1)\n",
    "\n",
    "    text = (\n",
    "        f\"{' '.join(map(str, [N]))}\\n\"\n",
    "    )\n",
    "\n",
    "    now = datetime.now().strftime(\"%Y-%m-%d_%H-%M-%S\")\n",
    "\n",
    "    with open(file=f\"./test/{now}.txt\", mode='w', encoding=\"utf-8\") as f:\n",
    "        f.write(text)\n",
    "\n",
    "    print(\"Test case creation complete!\")\n",
    "\n",
    "\n",
    "for _ in range(10):\n",
    "    make_test_case()\n",
    "    sleep(1)"
   ],
   "metadata": {
    "collapsed": false,
    "pycharm": {
     "name": "#%%\n"
    }
   }
  },
  {
   "cell_type": "code",
   "execution_count": 4,
   "outputs": [],
   "source": [
    "import _io\n",
    "from algorithm_util import time_check\n",
    "\n",
    "\n",
    "@time_check\n",
    "def answer(test: _io.TextIOWrapper) -> int:\n",
    "    n = int(test.readline())\n",
    "\n",
    "    cnt = 0\n",
    "    for h in range(n + 1):\n",
    "        for m in range(60):\n",
    "            for s in range(60):\n",
    "                time = str(h) + str(m) + str(s)\n",
    "                if '3' in time:\n",
    "                    cnt += 1\n",
    "\n",
    "    return cnt\n",
    "\n",
    "\n",
    "@time_check\n",
    "def solution_0(test: _io.TextIOWrapper) -> int:\n",
    "    \"\"\" 풀이 정답 \"\"\"\n",
    "    HOUR_TIME_MAX = 24\n",
    "    MINUTE_TIME_MAX = 60\n",
    "    SECOND_TIME_MAX = 60\n",
    "\n",
    "    n = int(test.readline())\n",
    "    answer = 0\n",
    "    for hour in range(n + 1):\n",
    "        for minute in range(MINUTE_TIME_MAX):\n",
    "            for second in range(SECOND_TIME_MAX):\n",
    "                if \"3\" in f\"{hour}{minute}{second}\":\n",
    "                    answer += 1\n",
    "\n",
    "    return answer"
   ],
   "metadata": {
    "collapsed": false,
    "pycharm": {
     "name": "#%%\n"
    }
   }
  },
  {
   "cell_type": "code",
   "execution_count": 5,
   "outputs": [
    {
     "data": {
      "text/plain": "   solution_n      time  result                test_file_path\n0      answer  0.019000   17775  test\\2022-09-15_21-27-26.txt\n1           1  0.009001   17775  test\\2022-09-15_21-27-26.txt\n2      answer  0.034000   32400  test\\2022-09-15_21-27-27.txt\n3           1  0.017998   32400  test\\2022-09-15_21-27-27.txt\n4      answer  0.003000    3150  test\\2022-09-15_21-27-28.txt\n5           1  0.002000    3150  test\\2022-09-15_21-27-28.txt\n6      answer  0.020000   22500  test\\2022-09-15_21-27-29.txt\n7           1  0.012001   22500  test\\2022-09-15_21-27-29.txt\n8      answer  0.026000   30825  test\\2022-09-15_21-27-30.txt\n9           1  0.014003   30825  test\\2022-09-15_21-27-30.txt\n10     answer  0.024000   29250  test\\2022-09-15_21-27-31.txt\n11          1  0.014000   29250  test\\2022-09-15_21-27-31.txt\n12     answer  0.025001   30825  test\\2022-09-15_21-27-32.txt\n13          1  0.016000   30825  test\\2022-09-15_21-27-32.txt\n14     answer  0.019000   20925  test\\2022-09-15_21-27-33.txt\n15          1  0.010000   20925  test\\2022-09-15_21-27-33.txt\n16     answer  0.020000   26100  test\\2022-09-15_21-27-34.txt\n17          1  0.013000   26100  test\\2022-09-15_21-27-34.txt\n18     answer  0.008004    9900  test\\2022-09-15_21-27-35.txt\n19          1  0.004997    9900  test\\2022-09-15_21-27-35.txt\n20     answer  0.009003   11475             test\\original.txt\n21          1  0.005997   11475             test\\original.txt",
      "text/html": "<div>\n<style scoped>\n    .dataframe tbody tr th:only-of-type {\n        vertical-align: middle;\n    }\n\n    .dataframe tbody tr th {\n        vertical-align: top;\n    }\n\n    .dataframe thead th {\n        text-align: right;\n    }\n</style>\n<table border=\"1\" class=\"dataframe\">\n  <thead>\n    <tr style=\"text-align: right;\">\n      <th></th>\n      <th>solution_n</th>\n      <th>time</th>\n      <th>result</th>\n      <th>test_file_path</th>\n    </tr>\n  </thead>\n  <tbody>\n    <tr>\n      <th>0</th>\n      <td>answer</td>\n      <td>0.019000</td>\n      <td>17775</td>\n      <td>test\\2022-09-15_21-27-26.txt</td>\n    </tr>\n    <tr>\n      <th>1</th>\n      <td>1</td>\n      <td>0.009001</td>\n      <td>17775</td>\n      <td>test\\2022-09-15_21-27-26.txt</td>\n    </tr>\n    <tr>\n      <th>2</th>\n      <td>answer</td>\n      <td>0.034000</td>\n      <td>32400</td>\n      <td>test\\2022-09-15_21-27-27.txt</td>\n    </tr>\n    <tr>\n      <th>3</th>\n      <td>1</td>\n      <td>0.017998</td>\n      <td>32400</td>\n      <td>test\\2022-09-15_21-27-27.txt</td>\n    </tr>\n    <tr>\n      <th>4</th>\n      <td>answer</td>\n      <td>0.003000</td>\n      <td>3150</td>\n      <td>test\\2022-09-15_21-27-28.txt</td>\n    </tr>\n    <tr>\n      <th>5</th>\n      <td>1</td>\n      <td>0.002000</td>\n      <td>3150</td>\n      <td>test\\2022-09-15_21-27-28.txt</td>\n    </tr>\n    <tr>\n      <th>6</th>\n      <td>answer</td>\n      <td>0.020000</td>\n      <td>22500</td>\n      <td>test\\2022-09-15_21-27-29.txt</td>\n    </tr>\n    <tr>\n      <th>7</th>\n      <td>1</td>\n      <td>0.012001</td>\n      <td>22500</td>\n      <td>test\\2022-09-15_21-27-29.txt</td>\n    </tr>\n    <tr>\n      <th>8</th>\n      <td>answer</td>\n      <td>0.026000</td>\n      <td>30825</td>\n      <td>test\\2022-09-15_21-27-30.txt</td>\n    </tr>\n    <tr>\n      <th>9</th>\n      <td>1</td>\n      <td>0.014003</td>\n      <td>30825</td>\n      <td>test\\2022-09-15_21-27-30.txt</td>\n    </tr>\n    <tr>\n      <th>10</th>\n      <td>answer</td>\n      <td>0.024000</td>\n      <td>29250</td>\n      <td>test\\2022-09-15_21-27-31.txt</td>\n    </tr>\n    <tr>\n      <th>11</th>\n      <td>1</td>\n      <td>0.014000</td>\n      <td>29250</td>\n      <td>test\\2022-09-15_21-27-31.txt</td>\n    </tr>\n    <tr>\n      <th>12</th>\n      <td>answer</td>\n      <td>0.025001</td>\n      <td>30825</td>\n      <td>test\\2022-09-15_21-27-32.txt</td>\n    </tr>\n    <tr>\n      <th>13</th>\n      <td>1</td>\n      <td>0.016000</td>\n      <td>30825</td>\n      <td>test\\2022-09-15_21-27-32.txt</td>\n    </tr>\n    <tr>\n      <th>14</th>\n      <td>answer</td>\n      <td>0.019000</td>\n      <td>20925</td>\n      <td>test\\2022-09-15_21-27-33.txt</td>\n    </tr>\n    <tr>\n      <th>15</th>\n      <td>1</td>\n      <td>0.010000</td>\n      <td>20925</td>\n      <td>test\\2022-09-15_21-27-33.txt</td>\n    </tr>\n    <tr>\n      <th>16</th>\n      <td>answer</td>\n      <td>0.020000</td>\n      <td>26100</td>\n      <td>test\\2022-09-15_21-27-34.txt</td>\n    </tr>\n    <tr>\n      <th>17</th>\n      <td>1</td>\n      <td>0.013000</td>\n      <td>26100</td>\n      <td>test\\2022-09-15_21-27-34.txt</td>\n    </tr>\n    <tr>\n      <th>18</th>\n      <td>answer</td>\n      <td>0.008004</td>\n      <td>9900</td>\n      <td>test\\2022-09-15_21-27-35.txt</td>\n    </tr>\n    <tr>\n      <th>19</th>\n      <td>1</td>\n      <td>0.004997</td>\n      <td>9900</td>\n      <td>test\\2022-09-15_21-27-35.txt</td>\n    </tr>\n    <tr>\n      <th>20</th>\n      <td>answer</td>\n      <td>0.009003</td>\n      <td>11475</td>\n      <td>test\\original.txt</td>\n    </tr>\n    <tr>\n      <th>21</th>\n      <td>1</td>\n      <td>0.005997</td>\n      <td>11475</td>\n      <td>test\\original.txt</td>\n    </tr>\n  </tbody>\n</table>\n</div>"
     },
     "execution_count": 5,
     "metadata": {},
     "output_type": "execute_result"
    }
   ],
   "source": [
    "from algorithm_util import result_df\n",
    "\n",
    "solutions = [\n",
    "    answer,\n",
    "    solution_0,\n",
    "]\n",
    "\n",
    "result_df(solutions)"
   ],
   "metadata": {
    "collapsed": false,
    "pycharm": {
     "name": "#%%\n"
    }
   }
  },
  {
   "cell_type": "code",
   "execution_count": null,
   "outputs": [],
   "source": [],
   "metadata": {
    "collapsed": false,
    "pycharm": {
     "name": "#%%\n"
    }
   }
  }
 ],
 "metadata": {
  "kernelspec": {
   "display_name": "Python 3",
   "language": "python",
   "name": "python3"
  },
  "language_info": {
   "codemirror_mode": {
    "name": "ipython",
    "version": 2
   },
   "file_extension": ".py",
   "mimetype": "text/x-python",
   "name": "python",
   "nbconvert_exporter": "python",
   "pygments_lexer": "ipython2",
   "version": "2.7.6"
  }
 },
 "nbformat": 4,
 "nbformat_minor": 0
}