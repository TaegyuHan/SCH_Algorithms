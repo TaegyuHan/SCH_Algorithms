{
 "cells": [
  {
   "cell_type": "markdown",
   "source": [
    "# 왕실 나이트\n",
    "행복 왕국의 왕실 정원은 체스판과 같은 8 × 8 좌표 평면이다. 왕실 정원의 특정한 한 칸에 나이트가 서있다.\n",
    "나이트는 매우 충성스러운 신하로서 매일 무술을 연마한다\n",
    "나이트는 말을 타고 있기 때문에 이동을 할 때는 L자 형태로만 이동할 수 있으며 정원 밖으로는 나갈 수 없다\n",
    "나이트는 특정 위치에서 다음과 같은 2가지 경우로 이동할 수 있다\n",
    "\n",
    "1. 수평으로 두 칸 이동한 뒤에 수직으로 한 칸 이동하기\n",
    "2. 수직으로 두 칸 이동한 뒤에 수평으로 한 칸 이동하기\n",
    "\n",
    "이처럼 8 × 8 좌표 평면상에서 나이트의 위치가 주어졌을 때 나이트가 이동할 수 있는 경우의 수를 출력하는\n",
    "프로그램을 작성하라. 왕실의 정원에서 행 위치를 표현할 때는 1부터 8로 표현하며, 열 위치를 표현할 때는\n",
    "a 부터 h로 표현한다\n",
    "\n",
    "c2에 있을 때 이동할 수 있는 경우의 수는 6가지이다\n",
    "a1에 있을 때 이동할 수 있는 경우의 수는 2가지이다\n",
    "\n",
    "### input\n",
    "- 첫째 줄에 8x8 좌표 평면상에서 현재 나이트가 위치한 곳의 좌표를 나타내는 두 문자로 구성된 문자열이 입력된다. 입력 문자는 a1 처럼 열과 행으로 이뤄진다.\n",
    "\n",
    "### output\n",
    "- 첫째 줄에 나이트가 이동할 수 있는 경우의 수를 출력하시오."
   ],
   "metadata": {
    "collapsed": false,
    "pycharm": {
     "name": "#%% md\n"
    }
   }
  },
  {
   "cell_type": "code",
   "execution_count": 1,
   "outputs": [
    {
     "name": "stdout",
     "output_type": "stream",
     "text": [
      "Test case creation complete!\n",
      "Test case creation complete!\n",
      "Test case creation complete!\n",
      "Test case creation complete!\n",
      "Test case creation complete!\n",
      "Test case creation complete!\n",
      "Test case creation complete!\n",
      "Test case creation complete!\n",
      "Test case creation complete!\n",
      "Test case creation complete!\n"
     ]
    }
   ],
   "source": [
    "from time import sleep\n",
    "import random\n",
    "from datetime import datetime\n",
    "\n",
    "\n",
    "def make_test_case() -> str:\n",
    "    \"\"\" 테스트 케이스 생성기 \"\"\"\n",
    "\n",
    "    row = random.randrange(1, 9)\n",
    "    col = random.choice(['a', 'b', 'c', 'd', 'e', 'f', 'g', 'h'])\n",
    "\n",
    "    text = (\n",
    "        f\"{''.join(map(str, [col, row]))}\\n\"\n",
    "    )\n",
    "\n",
    "    now = datetime.now().strftime(\"%Y-%m-%d_%H-%M-%S\")\n",
    "\n",
    "    with open(file=f\"./test/{now}.txt\", mode='w', encoding=\"utf-8\") as f:\n",
    "        f.write(text)\n",
    "\n",
    "    print(\"Test case creation complete!\")\n",
    "\n",
    "\n",
    "for _ in range(10):\n",
    "    make_test_case()\n",
    "    sleep(1)"
   ],
   "metadata": {
    "collapsed": false,
    "pycharm": {
     "name": "#%%\n"
    }
   }
  },
  {
   "cell_type": "code",
   "execution_count": 4,
   "outputs": [],
   "source": [
    "import _io\n",
    "from algorithm_util import time_check\n",
    "\n",
    "\n",
    "@time_check\n",
    "def answer(test: _io.TextIOWrapper) -> int:\n",
    "    # 현재 나이트의 위치 입력받기\n",
    "    input_data = test.readline()\n",
    "    row = int(input_data[1])\n",
    "    column = int(ord(input_data[0])) - int(ord('a')) + 1\n",
    "\n",
    "    # 나이트가 이동할 수 있는 8가지 방향 정의\n",
    "    steps = [(-2, -1), (-1, -2), (1, -2), (2, -1), (2, 1), (1, 2), (-1, 2), (-2, 1)]\n",
    "\n",
    "    # 8가지 방향에 대하여 각 위치로 이동이 가능한지 확인\n",
    "    result = 0\n",
    "    for step in steps:\n",
    "        # 이동하고자 하는 위치 확인\n",
    "        next_row = row + step[0]\n",
    "        next_column = column + step[1]\n",
    "        # 해당 위치로 이동이 가능하다면 카운트 증가\n",
    "        if next_row >= 1 and next_row <= 8 and next_column >= 1 and next_column <= 8:\n",
    "            result += 1\n",
    "\n",
    "    return result\n",
    "\n",
    "\n",
    "@time_check\n",
    "def solution_0(test: _io.TextIOWrapper) -> int:\n",
    "    \"\"\" 풀이 정답 \"\"\"\n",
    "    position = test.readline()\n",
    "    COL = {alpha: idx + 1 for idx, alpha in enumerate([\"a\", \"b\", \"c\", \"d\", \"e\", \"f\", \"g\", \"h\"])}\n",
    "    BOARD_MAX = 8\n",
    "    NIGHT_MOVE = [\n",
    "        (-2, -1),  # 왼쪽 위 1\n",
    "        (-1, -2),  # 왼쪽 위 2\n",
    "        (-2, 1),  # 오른쪽 위 1\n",
    "        (-1, 2),  # 오른쪽 위 2\n",
    "        (1, -2),  # 왼쪽 아래 1\n",
    "        (2, -1),  # 왼쪽 아래 2\n",
    "        (1, 2),  # 오른쪽 아래 1\n",
    "        (2, 1),  # 오른쪽 아래 2\n",
    "    ]\n",
    "\n",
    "    answer = 0\n",
    "\n",
    "    col, row = position[0], position[1]\n",
    "    crow, ccol = int(row), COL[col]\n",
    "\n",
    "    for trow, tcol in NIGHT_MOVE:\n",
    "        nrow, ncol = crow + trow, ccol + tcol\n",
    "        if not (1 <= nrow <= BOARD_MAX and 1 <= ncol <= BOARD_MAX):\n",
    "            continue\n",
    "        answer += 1\n",
    "\n",
    "    return answer"
   ],
   "metadata": {
    "collapsed": false,
    "pycharm": {
     "name": "#%%\n"
    }
   }
  },
  {
   "cell_type": "code",
   "execution_count": 5,
   "outputs": [
    {
     "data": {
      "text/plain": "   solution_n   time  result                test_file_path\n0      answer  0.000       3  test\\2022-09-15_21-32-00.txt\n1           1  0.000       3  test\\2022-09-15_21-32-00.txt\n2      answer  0.000       4  test\\2022-09-15_21-32-01.txt\n3           1  0.001       4  test\\2022-09-15_21-32-01.txt\n4      answer  0.000       6  test\\2022-09-15_21-32-02.txt\n5           1  0.000       6  test\\2022-09-15_21-32-02.txt\n6      answer  0.000       4  test\\2022-09-15_21-32-03.txt\n7           1  0.000       4  test\\2022-09-15_21-32-03.txt\n8      answer  0.000       8  test\\2022-09-15_21-32-04.txt\n9           1  0.000       8  test\\2022-09-15_21-32-04.txt\n10     answer  0.000       6  test\\2022-09-15_21-32-05.txt\n11          1  0.000       6  test\\2022-09-15_21-32-05.txt\n12     answer  0.000       4  test\\2022-09-15_21-32-06.txt\n13          1  0.000       4  test\\2022-09-15_21-32-06.txt\n14     answer  0.000       8  test\\2022-09-15_21-32-07.txt\n15          1  0.000       8  test\\2022-09-15_21-32-07.txt\n16     answer  0.000       4  test\\2022-09-15_21-32-08.txt\n17          1  0.000       4  test\\2022-09-15_21-32-08.txt\n18     answer  0.000       6  test\\2022-09-15_21-32-09.txt\n19          1  0.000       6  test\\2022-09-15_21-32-09.txt\n20     answer  0.000       2             test\\original.txt\n21          1  0.000       2             test\\original.txt",
      "text/html": "<div>\n<style scoped>\n    .dataframe tbody tr th:only-of-type {\n        vertical-align: middle;\n    }\n\n    .dataframe tbody tr th {\n        vertical-align: top;\n    }\n\n    .dataframe thead th {\n        text-align: right;\n    }\n</style>\n<table border=\"1\" class=\"dataframe\">\n  <thead>\n    <tr style=\"text-align: right;\">\n      <th></th>\n      <th>solution_n</th>\n      <th>time</th>\n      <th>result</th>\n      <th>test_file_path</th>\n    </tr>\n  </thead>\n  <tbody>\n    <tr>\n      <th>0</th>\n      <td>answer</td>\n      <td>0.000</td>\n      <td>3</td>\n      <td>test\\2022-09-15_21-32-00.txt</td>\n    </tr>\n    <tr>\n      <th>1</th>\n      <td>1</td>\n      <td>0.000</td>\n      <td>3</td>\n      <td>test\\2022-09-15_21-32-00.txt</td>\n    </tr>\n    <tr>\n      <th>2</th>\n      <td>answer</td>\n      <td>0.000</td>\n      <td>4</td>\n      <td>test\\2022-09-15_21-32-01.txt</td>\n    </tr>\n    <tr>\n      <th>3</th>\n      <td>1</td>\n      <td>0.001</td>\n      <td>4</td>\n      <td>test\\2022-09-15_21-32-01.txt</td>\n    </tr>\n    <tr>\n      <th>4</th>\n      <td>answer</td>\n      <td>0.000</td>\n      <td>6</td>\n      <td>test\\2022-09-15_21-32-02.txt</td>\n    </tr>\n    <tr>\n      <th>5</th>\n      <td>1</td>\n      <td>0.000</td>\n      <td>6</td>\n      <td>test\\2022-09-15_21-32-02.txt</td>\n    </tr>\n    <tr>\n      <th>6</th>\n      <td>answer</td>\n      <td>0.000</td>\n      <td>4</td>\n      <td>test\\2022-09-15_21-32-03.txt</td>\n    </tr>\n    <tr>\n      <th>7</th>\n      <td>1</td>\n      <td>0.000</td>\n      <td>4</td>\n      <td>test\\2022-09-15_21-32-03.txt</td>\n    </tr>\n    <tr>\n      <th>8</th>\n      <td>answer</td>\n      <td>0.000</td>\n      <td>8</td>\n      <td>test\\2022-09-15_21-32-04.txt</td>\n    </tr>\n    <tr>\n      <th>9</th>\n      <td>1</td>\n      <td>0.000</td>\n      <td>8</td>\n      <td>test\\2022-09-15_21-32-04.txt</td>\n    </tr>\n    <tr>\n      <th>10</th>\n      <td>answer</td>\n      <td>0.000</td>\n      <td>6</td>\n      <td>test\\2022-09-15_21-32-05.txt</td>\n    </tr>\n    <tr>\n      <th>11</th>\n      <td>1</td>\n      <td>0.000</td>\n      <td>6</td>\n      <td>test\\2022-09-15_21-32-05.txt</td>\n    </tr>\n    <tr>\n      <th>12</th>\n      <td>answer</td>\n      <td>0.000</td>\n      <td>4</td>\n      <td>test\\2022-09-15_21-32-06.txt</td>\n    </tr>\n    <tr>\n      <th>13</th>\n      <td>1</td>\n      <td>0.000</td>\n      <td>4</td>\n      <td>test\\2022-09-15_21-32-06.txt</td>\n    </tr>\n    <tr>\n      <th>14</th>\n      <td>answer</td>\n      <td>0.000</td>\n      <td>8</td>\n      <td>test\\2022-09-15_21-32-07.txt</td>\n    </tr>\n    <tr>\n      <th>15</th>\n      <td>1</td>\n      <td>0.000</td>\n      <td>8</td>\n      <td>test\\2022-09-15_21-32-07.txt</td>\n    </tr>\n    <tr>\n      <th>16</th>\n      <td>answer</td>\n      <td>0.000</td>\n      <td>4</td>\n      <td>test\\2022-09-15_21-32-08.txt</td>\n    </tr>\n    <tr>\n      <th>17</th>\n      <td>1</td>\n      <td>0.000</td>\n      <td>4</td>\n      <td>test\\2022-09-15_21-32-08.txt</td>\n    </tr>\n    <tr>\n      <th>18</th>\n      <td>answer</td>\n      <td>0.000</td>\n      <td>6</td>\n      <td>test\\2022-09-15_21-32-09.txt</td>\n    </tr>\n    <tr>\n      <th>19</th>\n      <td>1</td>\n      <td>0.000</td>\n      <td>6</td>\n      <td>test\\2022-09-15_21-32-09.txt</td>\n    </tr>\n    <tr>\n      <th>20</th>\n      <td>answer</td>\n      <td>0.000</td>\n      <td>2</td>\n      <td>test\\original.txt</td>\n    </tr>\n    <tr>\n      <th>21</th>\n      <td>1</td>\n      <td>0.000</td>\n      <td>2</td>\n      <td>test\\original.txt</td>\n    </tr>\n  </tbody>\n</table>\n</div>"
     },
     "execution_count": 5,
     "metadata": {},
     "output_type": "execute_result"
    }
   ],
   "source": [
    "from algorithm_util import result_df\n",
    "\n",
    "solutions = [\n",
    "    answer,\n",
    "    solution_0,\n",
    "]\n",
    "\n",
    "result_df(solutions)"
   ],
   "metadata": {
    "collapsed": false,
    "pycharm": {
     "name": "#%%\n"
    }
   }
  },
  {
   "cell_type": "code",
   "execution_count": null,
   "outputs": [],
   "source": [],
   "metadata": {
    "collapsed": false,
    "pycharm": {
     "name": "#%%\n"
    }
   }
  }
 ],
 "metadata": {
  "kernelspec": {
   "display_name": "Python 3",
   "language": "python",
   "name": "python3"
  },
  "language_info": {
   "codemirror_mode": {
    "name": "ipython",
    "version": 2
   },
   "file_extension": ".py",
   "mimetype": "text/x-python",
   "name": "python",
   "nbconvert_exporter": "python",
   "pygments_lexer": "ipython2",
   "version": "2.7.6"
  }
 },
 "nbformat": 4,
 "nbformat_minor": 0
}